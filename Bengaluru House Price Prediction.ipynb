{
 "cells": [
  {
   "cell_type": "code",
   "execution_count": 2,
   "metadata": {},
   "outputs": [],
   "source": [
    "import pandas as pd\n",
    "import numpy as np\n",
    "import seaborn as sns\n",
    "import matplotlib.pyplot as plt"
   ]
  },
  {
   "cell_type": "code",
   "execution_count": 3,
   "metadata": {},
   "outputs": [
    {
     "data": {
      "text/html": [
       "<div>\n",
       "<style scoped>\n",
       "    .dataframe tbody tr th:only-of-type {\n",
       "        vertical-align: middle;\n",
       "    }\n",
       "\n",
       "    .dataframe tbody tr th {\n",
       "        vertical-align: top;\n",
       "    }\n",
       "\n",
       "    .dataframe thead th {\n",
       "        text-align: right;\n",
       "    }\n",
       "</style>\n",
       "<table border=\"1\" class=\"dataframe\">\n",
       "  <thead>\n",
       "    <tr style=\"text-align: right;\">\n",
       "      <th></th>\n",
       "      <th>area_type</th>\n",
       "      <th>availability</th>\n",
       "      <th>location</th>\n",
       "      <th>size</th>\n",
       "      <th>society</th>\n",
       "      <th>total_sqft</th>\n",
       "      <th>bath</th>\n",
       "      <th>balcony</th>\n",
       "      <th>price</th>\n",
       "    </tr>\n",
       "  </thead>\n",
       "  <tbody>\n",
       "    <tr>\n",
       "      <th>0</th>\n",
       "      <td>Super built-up  Area</td>\n",
       "      <td>19-Dec</td>\n",
       "      <td>Electronic City Phase II</td>\n",
       "      <td>2 BHK</td>\n",
       "      <td>Coomee</td>\n",
       "      <td>1056</td>\n",
       "      <td>2.0</td>\n",
       "      <td>1.0</td>\n",
       "      <td>39.07</td>\n",
       "    </tr>\n",
       "    <tr>\n",
       "      <th>1</th>\n",
       "      <td>Plot  Area</td>\n",
       "      <td>Ready To Move</td>\n",
       "      <td>Chikka Tirupathi</td>\n",
       "      <td>4 Bedroom</td>\n",
       "      <td>Theanmp</td>\n",
       "      <td>2600</td>\n",
       "      <td>5.0</td>\n",
       "      <td>3.0</td>\n",
       "      <td>120.00</td>\n",
       "    </tr>\n",
       "    <tr>\n",
       "      <th>2</th>\n",
       "      <td>Built-up  Area</td>\n",
       "      <td>Ready To Move</td>\n",
       "      <td>Uttarahalli</td>\n",
       "      <td>3 BHK</td>\n",
       "      <td>NaN</td>\n",
       "      <td>1440</td>\n",
       "      <td>2.0</td>\n",
       "      <td>3.0</td>\n",
       "      <td>62.00</td>\n",
       "    </tr>\n",
       "    <tr>\n",
       "      <th>3</th>\n",
       "      <td>Super built-up  Area</td>\n",
       "      <td>Ready To Move</td>\n",
       "      <td>Lingadheeranahalli</td>\n",
       "      <td>3 BHK</td>\n",
       "      <td>Soiewre</td>\n",
       "      <td>1521</td>\n",
       "      <td>3.0</td>\n",
       "      <td>1.0</td>\n",
       "      <td>95.00</td>\n",
       "    </tr>\n",
       "    <tr>\n",
       "      <th>4</th>\n",
       "      <td>Super built-up  Area</td>\n",
       "      <td>Ready To Move</td>\n",
       "      <td>Kothanur</td>\n",
       "      <td>2 BHK</td>\n",
       "      <td>NaN</td>\n",
       "      <td>1200</td>\n",
       "      <td>2.0</td>\n",
       "      <td>1.0</td>\n",
       "      <td>51.00</td>\n",
       "    </tr>\n",
       "  </tbody>\n",
       "</table>\n",
       "</div>"
      ],
      "text/plain": [
       "              area_type   availability                  location       size  \\\n",
       "0  Super built-up  Area         19-Dec  Electronic City Phase II      2 BHK   \n",
       "1            Plot  Area  Ready To Move          Chikka Tirupathi  4 Bedroom   \n",
       "2        Built-up  Area  Ready To Move               Uttarahalli      3 BHK   \n",
       "3  Super built-up  Area  Ready To Move        Lingadheeranahalli      3 BHK   \n",
       "4  Super built-up  Area  Ready To Move                  Kothanur      2 BHK   \n",
       "\n",
       "   society total_sqft  bath  balcony   price  \n",
       "0  Coomee        1056   2.0      1.0   39.07  \n",
       "1  Theanmp       2600   5.0      3.0  120.00  \n",
       "2      NaN       1440   2.0      3.0   62.00  \n",
       "3  Soiewre       1521   3.0      1.0   95.00  \n",
       "4      NaN       1200   2.0      1.0   51.00  "
      ]
     },
     "execution_count": 3,
     "metadata": {},
     "output_type": "execute_result"
    }
   ],
   "source": [
    "#loading the House dataset\n",
    "data = pd.read_csv(\"Bengaluru_House_Data.csv\")\n",
    "data.head()"
   ]
  },
  {
   "cell_type": "code",
   "execution_count": 4,
   "metadata": {},
   "outputs": [
    {
     "data": {
      "text/html": [
       "<div>\n",
       "<style scoped>\n",
       "    .dataframe tbody tr th:only-of-type {\n",
       "        vertical-align: middle;\n",
       "    }\n",
       "\n",
       "    .dataframe tbody tr th {\n",
       "        vertical-align: top;\n",
       "    }\n",
       "\n",
       "    .dataframe thead th {\n",
       "        text-align: right;\n",
       "    }\n",
       "</style>\n",
       "<table border=\"1\" class=\"dataframe\">\n",
       "  <thead>\n",
       "    <tr style=\"text-align: right;\">\n",
       "      <th></th>\n",
       "      <th>bath</th>\n",
       "      <th>balcony</th>\n",
       "      <th>price</th>\n",
       "    </tr>\n",
       "  </thead>\n",
       "  <tbody>\n",
       "    <tr>\n",
       "      <th>count</th>\n",
       "      <td>13247.000000</td>\n",
       "      <td>12711.000000</td>\n",
       "      <td>13320.000000</td>\n",
       "    </tr>\n",
       "    <tr>\n",
       "      <th>mean</th>\n",
       "      <td>2.692610</td>\n",
       "      <td>1.584376</td>\n",
       "      <td>112.565627</td>\n",
       "    </tr>\n",
       "    <tr>\n",
       "      <th>std</th>\n",
       "      <td>1.341458</td>\n",
       "      <td>0.817263</td>\n",
       "      <td>148.971674</td>\n",
       "    </tr>\n",
       "    <tr>\n",
       "      <th>min</th>\n",
       "      <td>1.000000</td>\n",
       "      <td>0.000000</td>\n",
       "      <td>8.000000</td>\n",
       "    </tr>\n",
       "    <tr>\n",
       "      <th>25%</th>\n",
       "      <td>2.000000</td>\n",
       "      <td>1.000000</td>\n",
       "      <td>50.000000</td>\n",
       "    </tr>\n",
       "    <tr>\n",
       "      <th>50%</th>\n",
       "      <td>2.000000</td>\n",
       "      <td>2.000000</td>\n",
       "      <td>72.000000</td>\n",
       "    </tr>\n",
       "    <tr>\n",
       "      <th>75%</th>\n",
       "      <td>3.000000</td>\n",
       "      <td>2.000000</td>\n",
       "      <td>120.000000</td>\n",
       "    </tr>\n",
       "    <tr>\n",
       "      <th>max</th>\n",
       "      <td>40.000000</td>\n",
       "      <td>3.000000</td>\n",
       "      <td>3600.000000</td>\n",
       "    </tr>\n",
       "  </tbody>\n",
       "</table>\n",
       "</div>"
      ],
      "text/plain": [
       "               bath       balcony         price\n",
       "count  13247.000000  12711.000000  13320.000000\n",
       "mean       2.692610      1.584376    112.565627\n",
       "std        1.341458      0.817263    148.971674\n",
       "min        1.000000      0.000000      8.000000\n",
       "25%        2.000000      1.000000     50.000000\n",
       "50%        2.000000      2.000000     72.000000\n",
       "75%        3.000000      2.000000    120.000000\n",
       "max       40.000000      3.000000   3600.000000"
      ]
     },
     "execution_count": 4,
     "metadata": {},
     "output_type": "execute_result"
    }
   ],
   "source": [
    "data.describe()"
   ]
  },
  {
   "cell_type": "code",
   "execution_count": 5,
   "metadata": {},
   "outputs": [
    {
     "data": {
      "text/plain": [
       "(13320, 9)"
      ]
     },
     "execution_count": 5,
     "metadata": {},
     "output_type": "execute_result"
    }
   ],
   "source": [
    "data.shape"
   ]
  },
  {
   "cell_type": "code",
   "execution_count": 458,
   "metadata": {},
   "outputs": [
    {
     "data": {
      "text/plain": [
       "<AxesSubplot:xlabel='total_sqft', ylabel='price'>"
      ]
     },
     "execution_count": 458,
     "metadata": {},
     "output_type": "execute_result"
    },
    {
     "data": {
      "image/png": "[encoded data removed]",
      "text/plain": [
       "<Figure size 432x288 with 1 Axes>"
      ]
     },
     "metadata": {
      "needs_background": "light"
     },
     "output_type": "display_data"
    }
   ],
   "source": [
    "data.plot.scatter(x=\"total_sqft\",y=\"price\")"
   ]
  },
  {
   "cell_type": "code",
   "execution_count": 459,
   "metadata": {},
   "outputs": [
    {
     "data": {
      "text/plain": [
       "<seaborn.axisgrid.FacetGrid at 0x151ba0acb80>"
      ]
     },
     "execution_count": 459,
     "metadata": {},
     "output_type": "execute_result"
    },
    {
     "data": {
      "image/png": "[encoded data removed]",
      "text/plain": [
       "<Figure size 456.75x360 with 1 Axes>"
      ]
     },
     "metadata": {
      "needs_background": "light"
     },
     "output_type": "display_data"
    }
   ],
   "source": [
    "sns.relplot(x = 'total_sqft', y = 'price', style = 'size', data = data)"
   ]
  },
  {
   "cell_type": "markdown",
   "metadata": {},
   "source": [
    "# Performing EDA"
   ]
  },
  {
   "cell_type": "code",
   "execution_count": 6,
   "metadata": {},
   "outputs": [
    {
     "data": {
      "text/plain": [
       "area_type          0\n",
       "availability       0\n",
       "location           1\n",
       "size              16\n",
       "society         5502\n",
       "total_sqft         0\n",
       "bath              73\n",
       "balcony          609\n",
       "price              0\n",
       "dtype: int64"
      ]
     },
     "execution_count": 6,
     "metadata": {},
     "output_type": "execute_result"
    }
   ],
   "source": [
    "data.isna().sum()"
   ]
  },
  {
   "cell_type": "code",
   "execution_count": 7,
   "metadata": {},
   "outputs": [
    {
     "data": {
      "text/html": [
       "<div>\n",
       "<style scoped>\n",
       "    .dataframe tbody tr th:only-of-type {\n",
       "        vertical-align: middle;\n",
       "    }\n",
       "\n",
       "    .dataframe tbody tr th {\n",
       "        vertical-align: top;\n",
       "    }\n",
       "\n",
       "    .dataframe thead th {\n",
       "        text-align: right;\n",
       "    }\n",
       "</style>\n",
       "<table border=\"1\" class=\"dataframe\">\n",
       "  <thead>\n",
       "    <tr style=\"text-align: right;\">\n",
       "      <th></th>\n",
       "      <th>area_type</th>\n",
       "      <th>availability</th>\n",
       "      <th>location</th>\n",
       "      <th>size</th>\n",
       "      <th>society</th>\n",
       "      <th>total_sqft</th>\n",
       "      <th>bath</th>\n",
       "      <th>balcony</th>\n",
       "      <th>price</th>\n",
       "    </tr>\n",
       "  </thead>\n",
       "  <tbody>\n",
       "    <tr>\n",
       "      <th>568</th>\n",
       "      <td>Super built-up  Area</td>\n",
       "      <td>Ready To Move</td>\n",
       "      <td>NaN</td>\n",
       "      <td>3 BHK</td>\n",
       "      <td>Grare S</td>\n",
       "      <td>1600</td>\n",
       "      <td>3.0</td>\n",
       "      <td>2.0</td>\n",
       "      <td>86.0</td>\n",
       "    </tr>\n",
       "  </tbody>\n",
       "</table>\n",
       "</div>"
      ],
      "text/plain": [
       "                area_type   availability location   size  society total_sqft  \\\n",
       "568  Super built-up  Area  Ready To Move      NaN  3 BHK  Grare S       1600   \n",
       "\n",
       "     bath  balcony  price  \n",
       "568   3.0      2.0   86.0  "
      ]
     },
     "execution_count": 7,
     "metadata": {},
     "output_type": "execute_result"
    }
   ],
   "source": [
    "#checking for record where location value is nan \n",
    "data[data[\"location\"].isna()]"
   ]
  },
  {
   "cell_type": "code",
   "execution_count": 8,
   "metadata": {},
   "outputs": [
    {
     "data": {
      "text/html": [
       "<div>\n",
       "<style scoped>\n",
       "    .dataframe tbody tr th:only-of-type {\n",
       "        vertical-align: middle;\n",
       "    }\n",
       "\n",
       "    .dataframe tbody tr th {\n",
       "        vertical-align: top;\n",
       "    }\n",
       "\n",
       "    .dataframe thead th {\n",
       "        text-align: right;\n",
       "    }\n",
       "</style>\n",
       "<table border=\"1\" class=\"dataframe\">\n",
       "  <thead>\n",
       "    <tr style=\"text-align: right;\">\n",
       "      <th></th>\n",
       "      <th>area_type</th>\n",
       "      <th>availability</th>\n",
       "      <th>location</th>\n",
       "      <th>size</th>\n",
       "      <th>society</th>\n",
       "      <th>total_sqft</th>\n",
       "      <th>bath</th>\n",
       "      <th>balcony</th>\n",
       "      <th>price</th>\n",
       "    </tr>\n",
       "  </thead>\n",
       "  <tbody>\n",
       "    <tr>\n",
       "      <th>568</th>\n",
       "      <td>Super built-up  Area</td>\n",
       "      <td>Ready To Move</td>\n",
       "      <td>NaN</td>\n",
       "      <td>3 BHK</td>\n",
       "      <td>Grare S</td>\n",
       "      <td>1600</td>\n",
       "      <td>3.0</td>\n",
       "      <td>2.0</td>\n",
       "      <td>86.0</td>\n",
       "    </tr>\n",
       "    <tr>\n",
       "      <th>12238</th>\n",
       "      <td>Carpet  Area</td>\n",
       "      <td>Ready To Move</td>\n",
       "      <td>Anantapura</td>\n",
       "      <td>3 BHK</td>\n",
       "      <td>Grare S</td>\n",
       "      <td>1600</td>\n",
       "      <td>3.0</td>\n",
       "      <td>2.0</td>\n",
       "      <td>77.0</td>\n",
       "    </tr>\n",
       "  </tbody>\n",
       "</table>\n",
       "</div>"
      ],
      "text/plain": [
       "                  area_type   availability    location   size  society  \\\n",
       "568    Super built-up  Area  Ready To Move         NaN  3 BHK  Grare S   \n",
       "12238          Carpet  Area  Ready To Move  Anantapura  3 BHK  Grare S   \n",
       "\n",
       "      total_sqft  bath  balcony  price  \n",
       "568         1600   3.0      2.0   86.0  \n",
       "12238       1600   3.0      2.0   77.0  "
      ]
     },
     "execution_count": 8,
     "metadata": {},
     "output_type": "execute_result"
    }
   ],
   "source": [
    "data[data[\"society\"]==\"Grare S\"]"
   ]
  },
  {
   "cell_type": "code",
   "execution_count": 9,
   "metadata": {},
   "outputs": [],
   "source": [
    "data[\"location\"].fillna(\"Anantapura\",inplace=True)"
   ]
  },
  {
   "cell_type": "code",
   "execution_count": 10,
   "metadata": {},
   "outputs": [
    {
     "data": {
      "text/plain": [
       "area_type          0\n",
       "availability       0\n",
       "location           0\n",
       "size              16\n",
       "society         5502\n",
       "total_sqft         0\n",
       "bath              73\n",
       "balcony          609\n",
       "price              0\n",
       "dtype: int64"
      ]
     },
     "execution_count": 10,
     "metadata": {},
     "output_type": "execute_result"
    }
   ],
   "source": [
    "data.isna().sum()"
   ]
  },
  {
   "cell_type": "code",
   "execution_count": 11,
   "metadata": {},
   "outputs": [
    {
     "data": {
      "text/plain": [
       "area_type        object\n",
       "availability     object\n",
       "location         object\n",
       "size             object\n",
       "society          object\n",
       "total_sqft       object\n",
       "bath            float64\n",
       "balcony         float64\n",
       "price           float64\n",
       "dtype: object"
      ]
     },
     "execution_count": 11,
     "metadata": {},
     "output_type": "execute_result"
    }
   ],
   "source": [
    "data.dtypes"
   ]
  },
  {
   "cell_type": "code",
   "execution_count": 12,
   "metadata": {},
   "outputs": [],
   "source": [
    "data[\"size\"] = data[\"size\"].str.split(\" \").str[0]"
   ]
  },
  {
   "cell_type": "code",
   "execution_count": 13,
   "metadata": {},
   "outputs": [
    {
     "data": {
      "text/plain": [
       "2     5528\n",
       "3     4857\n",
       "4     1417\n",
       "1      656\n",
       "5      356\n",
       "6      221\n",
       "7      100\n",
       "8       89\n",
       "9       54\n",
       "10      14\n",
       "11       4\n",
       "14       1\n",
       "13       1\n",
       "19       1\n",
       "27       1\n",
       "18       1\n",
       "16       1\n",
       "12       1\n",
       "43       1\n",
       "Name: size, dtype: int64"
      ]
     },
     "execution_count": 13,
     "metadata": {},
     "output_type": "execute_result"
    }
   ],
   "source": [
    "data[\"size\"].value_counts()"
   ]
  },
  {
   "cell_type": "code",
   "execution_count": 14,
   "metadata": {},
   "outputs": [
    {
     "data": {
      "text/html": [
       "<div>\n",
       "<style scoped>\n",
       "    .dataframe tbody tr th:only-of-type {\n",
       "        vertical-align: middle;\n",
       "    }\n",
       "\n",
       "    .dataframe tbody tr th {\n",
       "        vertical-align: top;\n",
       "    }\n",
       "\n",
       "    .dataframe thead th {\n",
       "        text-align: right;\n",
       "    }\n",
       "</style>\n",
       "<table border=\"1\" class=\"dataframe\">\n",
       "  <thead>\n",
       "    <tr style=\"text-align: right;\">\n",
       "      <th></th>\n",
       "      <th>area_type</th>\n",
       "      <th>availability</th>\n",
       "      <th>location</th>\n",
       "      <th>size</th>\n",
       "      <th>society</th>\n",
       "      <th>total_sqft</th>\n",
       "      <th>bath</th>\n",
       "      <th>balcony</th>\n",
       "      <th>price</th>\n",
       "    </tr>\n",
       "  </thead>\n",
       "  <tbody>\n",
       "    <tr>\n",
       "      <th>0</th>\n",
       "      <td>Super built-up  Area</td>\n",
       "      <td>19-Dec</td>\n",
       "      <td>Electronic City Phase II</td>\n",
       "      <td>2</td>\n",
       "      <td>Coomee</td>\n",
       "      <td>1056</td>\n",
       "      <td>2.0</td>\n",
       "      <td>1.0</td>\n",
       "      <td>39.07</td>\n",
       "    </tr>\n",
       "    <tr>\n",
       "      <th>1</th>\n",
       "      <td>Plot  Area</td>\n",
       "      <td>Ready To Move</td>\n",
       "      <td>Chikka Tirupathi</td>\n",
       "      <td>4</td>\n",
       "      <td>Theanmp</td>\n",
       "      <td>2600</td>\n",
       "      <td>5.0</td>\n",
       "      <td>3.0</td>\n",
       "      <td>120.00</td>\n",
       "    </tr>\n",
       "    <tr>\n",
       "      <th>2</th>\n",
       "      <td>Built-up  Area</td>\n",
       "      <td>Ready To Move</td>\n",
       "      <td>Uttarahalli</td>\n",
       "      <td>3</td>\n",
       "      <td>NaN</td>\n",
       "      <td>1440</td>\n",
       "      <td>2.0</td>\n",
       "      <td>3.0</td>\n",
       "      <td>62.00</td>\n",
       "    </tr>\n",
       "    <tr>\n",
       "      <th>3</th>\n",
       "      <td>Super built-up  Area</td>\n",
       "      <td>Ready To Move</td>\n",
       "      <td>Lingadheeranahalli</td>\n",
       "      <td>3</td>\n",
       "      <td>Soiewre</td>\n",
       "      <td>1521</td>\n",
       "      <td>3.0</td>\n",
       "      <td>1.0</td>\n",
       "      <td>95.00</td>\n",
       "    </tr>\n",
       "    <tr>\n",
       "      <th>4</th>\n",
       "      <td>Super built-up  Area</td>\n",
       "      <td>Ready To Move</td>\n",
       "      <td>Kothanur</td>\n",
       "      <td>2</td>\n",
       "      <td>NaN</td>\n",
       "      <td>1200</td>\n",
       "      <td>2.0</td>\n",
       "      <td>1.0</td>\n",
       "      <td>51.00</td>\n",
       "    </tr>\n",
       "  </tbody>\n",
       "</table>\n",
       "</div>"
      ],
      "text/plain": [
       "              area_type   availability                  location size  \\\n",
       "0  Super built-up  Area         19-Dec  Electronic City Phase II    2   \n",
       "1            Plot  Area  Ready To Move          Chikka Tirupathi    4   \n",
       "2        Built-up  Area  Ready To Move               Uttarahalli    3   \n",
       "3  Super built-up  Area  Ready To Move        Lingadheeranahalli    3   \n",
       "4  Super built-up  Area  Ready To Move                  Kothanur    2   \n",
       "\n",
       "   society total_sqft  bath  balcony   price  \n",
       "0  Coomee        1056   2.0      1.0   39.07  \n",
       "1  Theanmp       2600   5.0      3.0  120.00  \n",
       "2      NaN       1440   2.0      3.0   62.00  \n",
       "3  Soiewre       1521   3.0      1.0   95.00  \n",
       "4      NaN       1200   2.0      1.0   51.00  "
      ]
     },
     "execution_count": 14,
     "metadata": {},
     "output_type": "execute_result"
    }
   ],
   "source": [
    "data.head()"
   ]
  },
  {
   "cell_type": "code",
   "execution_count": 15,
   "metadata": {},
   "outputs": [
    {
     "data": {
      "text/html": [
       "<div>\n",
       "<style scoped>\n",
       "    .dataframe tbody tr th:only-of-type {\n",
       "        vertical-align: middle;\n",
       "    }\n",
       "\n",
       "    .dataframe tbody tr th {\n",
       "        vertical-align: top;\n",
       "    }\n",
       "\n",
       "    .dataframe thead th {\n",
       "        text-align: right;\n",
       "    }\n",
       "</style>\n",
       "<table border=\"1\" class=\"dataframe\">\n",
       "  <thead>\n",
       "    <tr style=\"text-align: right;\">\n",
       "      <th></th>\n",
       "      <th>area_type</th>\n",
       "      <th>availability</th>\n",
       "      <th>location</th>\n",
       "      <th>size</th>\n",
       "      <th>society</th>\n",
       "      <th>total_sqft</th>\n",
       "      <th>bath</th>\n",
       "      <th>balcony</th>\n",
       "      <th>price</th>\n",
       "    </tr>\n",
       "  </thead>\n",
       "  <tbody>\n",
       "    <tr>\n",
       "      <th>0</th>\n",
       "      <td>Super built-up  Area</td>\n",
       "      <td>19-Dec</td>\n",
       "      <td>Electronic City Phase II</td>\n",
       "      <td>2</td>\n",
       "      <td>Coomee</td>\n",
       "      <td>1056</td>\n",
       "      <td>2.0</td>\n",
       "      <td>1.0</td>\n",
       "      <td>39.07</td>\n",
       "    </tr>\n",
       "    <tr>\n",
       "      <th>1</th>\n",
       "      <td>Plot  Area</td>\n",
       "      <td>Ready To Move</td>\n",
       "      <td>Chikka Tirupathi</td>\n",
       "      <td>4</td>\n",
       "      <td>Theanmp</td>\n",
       "      <td>2600</td>\n",
       "      <td>5.0</td>\n",
       "      <td>3.0</td>\n",
       "      <td>120.00</td>\n",
       "    </tr>\n",
       "    <tr>\n",
       "      <th>2</th>\n",
       "      <td>Built-up  Area</td>\n",
       "      <td>Ready To Move</td>\n",
       "      <td>Uttarahalli</td>\n",
       "      <td>3</td>\n",
       "      <td>NaN</td>\n",
       "      <td>1440</td>\n",
       "      <td>2.0</td>\n",
       "      <td>3.0</td>\n",
       "      <td>62.00</td>\n",
       "    </tr>\n",
       "    <tr>\n",
       "      <th>3</th>\n",
       "      <td>Super built-up  Area</td>\n",
       "      <td>Ready To Move</td>\n",
       "      <td>Lingadheeranahalli</td>\n",
       "      <td>3</td>\n",
       "      <td>Soiewre</td>\n",
       "      <td>1521</td>\n",
       "      <td>3.0</td>\n",
       "      <td>1.0</td>\n",
       "      <td>95.00</td>\n",
       "    </tr>\n",
       "    <tr>\n",
       "      <th>4</th>\n",
       "      <td>Super built-up  Area</td>\n",
       "      <td>Ready To Move</td>\n",
       "      <td>Kothanur</td>\n",
       "      <td>2</td>\n",
       "      <td>NaN</td>\n",
       "      <td>1200</td>\n",
       "      <td>2.0</td>\n",
       "      <td>1.0</td>\n",
       "      <td>51.00</td>\n",
       "    </tr>\n",
       "  </tbody>\n",
       "</table>\n",
       "</div>"
      ],
      "text/plain": [
       "              area_type   availability                  location size  \\\n",
       "0  Super built-up  Area         19-Dec  Electronic City Phase II    2   \n",
       "1            Plot  Area  Ready To Move          Chikka Tirupathi    4   \n",
       "2        Built-up  Area  Ready To Move               Uttarahalli    3   \n",
       "3  Super built-up  Area  Ready To Move        Lingadheeranahalli    3   \n",
       "4  Super built-up  Area  Ready To Move                  Kothanur    2   \n",
       "\n",
       "   society total_sqft  bath  balcony   price  \n",
       "0  Coomee        1056   2.0      1.0   39.07  \n",
       "1  Theanmp       2600   5.0      3.0  120.00  \n",
       "2      NaN       1440   2.0      3.0   62.00  \n",
       "3  Soiewre       1521   3.0      1.0   95.00  \n",
       "4      NaN       1200   2.0      1.0   51.00  "
      ]
     },
     "execution_count": 15,
     "metadata": {},
     "output_type": "execute_result"
    }
   ],
   "source": [
    "data[\"size\"] = data[\"size\"].astype(str)\n",
    "data.head()"
   ]
  },
  {
   "cell_type": "code",
   "execution_count": 16,
   "metadata": {},
   "outputs": [],
   "source": [
    "data.rename({\"size\":\"bhk\"},axis=1,inplace=True)"
   ]
  },
  {
   "cell_type": "code",
   "execution_count": 17,
   "metadata": {},
   "outputs": [],
   "source": [
    "#dropping availability column as it doesnt impact on our prediction\n",
    "data.drop(\"availability\",axis=1,inplace=True)"
   ]
  },
  {
   "cell_type": "code",
   "execution_count": 18,
   "metadata": {},
   "outputs": [],
   "source": [
    "#dropping column society as it nearly contains 42% values as NULL. \n",
    "data.drop(\"society\",axis=1,inplace=True)"
   ]
  },
  {
   "cell_type": "code",
   "execution_count": 19,
   "metadata": {},
   "outputs": [
    {
     "data": {
      "text/html": [
       "<div>\n",
       "<style scoped>\n",
       "    .dataframe tbody tr th:only-of-type {\n",
       "        vertical-align: middle;\n",
       "    }\n",
       "\n",
       "    .dataframe tbody tr th {\n",
       "        vertical-align: top;\n",
       "    }\n",
       "\n",
       "    .dataframe thead th {\n",
       "        text-align: right;\n",
       "    }\n",
       "</style>\n",
       "<table border=\"1\" class=\"dataframe\">\n",
       "  <thead>\n",
       "    <tr style=\"text-align: right;\">\n",
       "      <th></th>\n",
       "      <th>area_type</th>\n",
       "      <th>location</th>\n",
       "      <th>bhk</th>\n",
       "      <th>total_sqft</th>\n",
       "      <th>bath</th>\n",
       "      <th>balcony</th>\n",
       "      <th>price</th>\n",
       "    </tr>\n",
       "  </thead>\n",
       "  <tbody>\n",
       "    <tr>\n",
       "      <th>0</th>\n",
       "      <td>Super built-up  Area</td>\n",
       "      <td>Electronic City Phase II</td>\n",
       "      <td>2</td>\n",
       "      <td>1056</td>\n",
       "      <td>2.0</td>\n",
       "      <td>1.0</td>\n",
       "      <td>39.07</td>\n",
       "    </tr>\n",
       "    <tr>\n",
       "      <th>1</th>\n",
       "      <td>Plot  Area</td>\n",
       "      <td>Chikka Tirupathi</td>\n",
       "      <td>4</td>\n",
       "      <td>2600</td>\n",
       "      <td>5.0</td>\n",
       "      <td>3.0</td>\n",
       "      <td>120.00</td>\n",
       "    </tr>\n",
       "    <tr>\n",
       "      <th>2</th>\n",
       "      <td>Built-up  Area</td>\n",
       "      <td>Uttarahalli</td>\n",
       "      <td>3</td>\n",
       "      <td>1440</td>\n",
       "      <td>2.0</td>\n",
       "      <td>3.0</td>\n",
       "      <td>62.00</td>\n",
       "    </tr>\n",
       "    <tr>\n",
       "      <th>3</th>\n",
       "      <td>Super built-up  Area</td>\n",
       "      <td>Lingadheeranahalli</td>\n",
       "      <td>3</td>\n",
       "      <td>1521</td>\n",
       "      <td>3.0</td>\n",
       "      <td>1.0</td>\n",
       "      <td>95.00</td>\n",
       "    </tr>\n",
       "    <tr>\n",
       "      <th>4</th>\n",
       "      <td>Super built-up  Area</td>\n",
       "      <td>Kothanur</td>\n",
       "      <td>2</td>\n",
       "      <td>1200</td>\n",
       "      <td>2.0</td>\n",
       "      <td>1.0</td>\n",
       "      <td>51.00</td>\n",
       "    </tr>\n",
       "  </tbody>\n",
       "</table>\n",
       "</div>"
      ],
      "text/plain": [
       "              area_type                  location bhk total_sqft  bath  \\\n",
       "0  Super built-up  Area  Electronic City Phase II   2       1056   2.0   \n",
       "1            Plot  Area          Chikka Tirupathi   4       2600   5.0   \n",
       "2        Built-up  Area               Uttarahalli   3       1440   2.0   \n",
       "3  Super built-up  Area        Lingadheeranahalli   3       1521   3.0   \n",
       "4  Super built-up  Area                  Kothanur   2       1200   2.0   \n",
       "\n",
       "   balcony   price  \n",
       "0      1.0   39.07  \n",
       "1      3.0  120.00  \n",
       "2      3.0   62.00  \n",
       "3      1.0   95.00  \n",
       "4      1.0   51.00  "
      ]
     },
     "execution_count": 19,
     "metadata": {},
     "output_type": "execute_result"
    }
   ],
   "source": [
    "data.head()"
   ]
  },
  {
   "cell_type": "code",
   "execution_count": 20,
   "metadata": {},
   "outputs": [
    {
     "data": {
      "text/plain": [
       "area_type       0\n",
       "location        0\n",
       "bhk             0\n",
       "total_sqft      0\n",
       "bath           73\n",
       "balcony       609\n",
       "price           0\n",
       "dtype: int64"
      ]
     },
     "execution_count": 20,
     "metadata": {},
     "output_type": "execute_result"
    }
   ],
   "source": [
    "data.isna().sum()"
   ]
  },
  {
   "cell_type": "code",
   "execution_count": 21,
   "metadata": {},
   "outputs": [],
   "source": [
    "#placing mean of column balcony to all null values present in balcony column.\n",
    "data[\"balcony\"].fillna(data[\"balcony\"].mean(),inplace=True)"
   ]
  },
  {
   "cell_type": "code",
   "execution_count": 22,
   "metadata": {},
   "outputs": [
    {
     "data": {
      "text/plain": [
       "area_type      0\n",
       "location       0\n",
       "bhk            0\n",
       "total_sqft     0\n",
       "bath          73\n",
       "balcony        0\n",
       "price          0\n",
       "dtype: int64"
      ]
     },
     "execution_count": 22,
     "metadata": {},
     "output_type": "execute_result"
    }
   ],
   "source": [
    "data.isna().sum()"
   ]
  },
  {
   "cell_type": "code",
   "execution_count": 23,
   "metadata": {},
   "outputs": [
    {
     "data": {
      "text/plain": [
       "<AxesSubplot:>"
      ]
     },
     "execution_count": 23,
     "metadata": {},
     "output_type": "execute_result"
    },
    {
     "data": {
      "image/png": "[encoded data removed]",
      "text/plain": [
       "<Figure size 1080x720 with 1 Axes>"
      ]
     },
     "metadata": {
      "needs_background": "light"
     },
     "output_type": "display_data"
    }
   ],
   "source": [
    "#checking for top frequently occuring locations.\n",
    "fig, ax = plt.subplots(figsize=(15,10))\n",
    "sns.boxplot(data=data[\"location\"].value_counts(), width= 0.5,ax=ax,  fliersize=3)"
   ]
  },
  {
   "cell_type": "code",
   "execution_count": 24,
   "metadata": {},
   "outputs": [
    {
     "data": {
      "text/plain": [
       "array([540, 399, 302, 273, 234, 213, 186, 177, 175, 171, 152, 149, 142,\n",
       "       132, 107, 100,  96,  91,  88,  85,  84,  82,  80,  79,  75,  74,\n",
       "        73,  72,  71,  70,  66,  64,  63,  62,  60,  58,  57,  56,  55,\n",
       "        54,  53,  52,  51,  50,  49,  48,  47,  45,  44,  43,  42,  41,\n",
       "        40,  39,  38,  37,  36,  35,  34,  33,  31,  30,  29,  28,  27,\n",
       "        26,  25,  24,  23,  22,  21,  20,  19,  18,  17,  16,  15,  14,\n",
       "        13,  12,  11,  10,   9,   8,   7,   6,   5,   4,   3,   2,   1],\n",
       "      dtype=int64)"
      ]
     },
     "execution_count": 24,
     "metadata": {},
     "output_type": "execute_result"
    }
   ],
   "source": [
    "data[\"location\"].value_counts().unique()"
   ]
  },
  {
   "cell_type": "code",
   "execution_count": 25,
   "metadata": {},
   "outputs": [
    {
     "data": {
      "text/html": [
       "<div>\n",
       "<style scoped>\n",
       "    .dataframe tbody tr th:only-of-type {\n",
       "        vertical-align: middle;\n",
       "    }\n",
       "\n",
       "    .dataframe tbody tr th {\n",
       "        vertical-align: top;\n",
       "    }\n",
       "\n",
       "    .dataframe thead th {\n",
       "        text-align: right;\n",
       "    }\n",
       "</style>\n",
       "<table border=\"1\" class=\"dataframe\">\n",
       "  <thead>\n",
       "    <tr style=\"text-align: right;\">\n",
       "      <th></th>\n",
       "      <th>area_type</th>\n",
       "      <th>location</th>\n",
       "      <th>bhk</th>\n",
       "      <th>total_sqft</th>\n",
       "      <th>bath</th>\n",
       "      <th>balcony</th>\n",
       "      <th>price</th>\n",
       "    </tr>\n",
       "  </thead>\n",
       "  <tbody>\n",
       "    <tr>\n",
       "      <th>0</th>\n",
       "      <td>Super built-up  Area</td>\n",
       "      <td>Electronic City Phase II</td>\n",
       "      <td>2</td>\n",
       "      <td>1056</td>\n",
       "      <td>2.0</td>\n",
       "      <td>1.000000</td>\n",
       "      <td>39.07</td>\n",
       "    </tr>\n",
       "    <tr>\n",
       "      <th>2</th>\n",
       "      <td>Built-up  Area</td>\n",
       "      <td>Uttarahalli</td>\n",
       "      <td>3</td>\n",
       "      <td>1440</td>\n",
       "      <td>2.0</td>\n",
       "      <td>3.000000</td>\n",
       "      <td>62.00</td>\n",
       "    </tr>\n",
       "    <tr>\n",
       "      <th>5</th>\n",
       "      <td>Super built-up  Area</td>\n",
       "      <td>Whitefield</td>\n",
       "      <td>2</td>\n",
       "      <td>1170</td>\n",
       "      <td>2.0</td>\n",
       "      <td>1.000000</td>\n",
       "      <td>38.00</td>\n",
       "    </tr>\n",
       "    <tr>\n",
       "      <th>7</th>\n",
       "      <td>Super built-up  Area</td>\n",
       "      <td>Rajaji Nagar</td>\n",
       "      <td>4</td>\n",
       "      <td>3300</td>\n",
       "      <td>4.0</td>\n",
       "      <td>1.584376</td>\n",
       "      <td>600.00</td>\n",
       "    </tr>\n",
       "    <tr>\n",
       "      <th>8</th>\n",
       "      <td>Super built-up  Area</td>\n",
       "      <td>Marathahalli</td>\n",
       "      <td>3</td>\n",
       "      <td>1310</td>\n",
       "      <td>3.0</td>\n",
       "      <td>1.000000</td>\n",
       "      <td>63.25</td>\n",
       "    </tr>\n",
       "  </tbody>\n",
       "</table>\n",
       "</div>"
      ],
      "text/plain": [
       "              area_type                  location bhk total_sqft  bath  \\\n",
       "0  Super built-up  Area  Electronic City Phase II   2       1056   2.0   \n",
       "2        Built-up  Area               Uttarahalli   3       1440   2.0   \n",
       "5  Super built-up  Area                Whitefield   2       1170   2.0   \n",
       "7  Super built-up  Area              Rajaji Nagar   4       3300   4.0   \n",
       "8  Super built-up  Area              Marathahalli   3       1310   3.0   \n",
       "\n",
       "    balcony   price  \n",
       "0  1.000000   39.07  \n",
       "2  3.000000   62.00  \n",
       "5  1.000000   38.00  \n",
       "7  1.584376  600.00  \n",
       "8  1.000000   63.25  "
      ]
     },
     "execution_count": 25,
     "metadata": {},
     "output_type": "execute_result"
    }
   ],
   "source": [
    "#getting data for only most frequent locations. considering only top 25 locations of bengaluru\n",
    "df = data[\"location\"].value_counts()[:25]\n",
    "data = data[data[\"location\"].isin(df.index)]\n",
    "data.head()"
   ]
  },
  {
   "cell_type": "code",
   "execution_count": 26,
   "metadata": {},
   "outputs": [
    {
     "data": {
      "text/plain": [
       "Super built-up  Area    3285\n",
       "Built-up  Area           673\n",
       "Plot  Area               322\n",
       "Carpet  Area              18\n",
       "Name: area_type, dtype: int64"
      ]
     },
     "execution_count": 26,
     "metadata": {},
     "output_type": "execute_result"
    }
   ],
   "source": [
    "data[\"area_type\"].value_counts()"
   ]
  },
  {
   "cell_type": "code",
   "execution_count": 27,
   "metadata": {},
   "outputs": [
    {
     "data": {
      "text/html": [
       "<div>\n",
       "<style scoped>\n",
       "    .dataframe tbody tr th:only-of-type {\n",
       "        vertical-align: middle;\n",
       "    }\n",
       "\n",
       "    .dataframe tbody tr th {\n",
       "        vertical-align: top;\n",
       "    }\n",
       "\n",
       "    .dataframe thead th {\n",
       "        text-align: right;\n",
       "    }\n",
       "</style>\n",
       "<table border=\"1\" class=\"dataframe\">\n",
       "  <thead>\n",
       "    <tr style=\"text-align: right;\">\n",
       "      <th></th>\n",
       "      <th>area_type</th>\n",
       "      <th>location</th>\n",
       "      <th>bhk</th>\n",
       "      <th>total_sqft</th>\n",
       "      <th>bath</th>\n",
       "      <th>balcony</th>\n",
       "      <th>price</th>\n",
       "    </tr>\n",
       "  </thead>\n",
       "  <tbody>\n",
       "    <tr>\n",
       "      <th>0</th>\n",
       "      <td>Super built-up  Area</td>\n",
       "      <td>Electronic City Phase II</td>\n",
       "      <td>2</td>\n",
       "      <td>1056</td>\n",
       "      <td>2.0</td>\n",
       "      <td>1.000000</td>\n",
       "      <td>39.07</td>\n",
       "    </tr>\n",
       "    <tr>\n",
       "      <th>2</th>\n",
       "      <td>Built-up  Area</td>\n",
       "      <td>Uttarahalli</td>\n",
       "      <td>3</td>\n",
       "      <td>1440</td>\n",
       "      <td>2.0</td>\n",
       "      <td>3.000000</td>\n",
       "      <td>62.00</td>\n",
       "    </tr>\n",
       "    <tr>\n",
       "      <th>5</th>\n",
       "      <td>Super built-up  Area</td>\n",
       "      <td>Whitefield</td>\n",
       "      <td>2</td>\n",
       "      <td>1170</td>\n",
       "      <td>2.0</td>\n",
       "      <td>1.000000</td>\n",
       "      <td>38.00</td>\n",
       "    </tr>\n",
       "    <tr>\n",
       "      <th>7</th>\n",
       "      <td>Super built-up  Area</td>\n",
       "      <td>Rajaji Nagar</td>\n",
       "      <td>4</td>\n",
       "      <td>3300</td>\n",
       "      <td>4.0</td>\n",
       "      <td>1.584376</td>\n",
       "      <td>600.00</td>\n",
       "    </tr>\n",
       "    <tr>\n",
       "      <th>8</th>\n",
       "      <td>Super built-up  Area</td>\n",
       "      <td>Marathahalli</td>\n",
       "      <td>3</td>\n",
       "      <td>1310</td>\n",
       "      <td>3.0</td>\n",
       "      <td>1.000000</td>\n",
       "      <td>63.25</td>\n",
       "    </tr>\n",
       "  </tbody>\n",
       "</table>\n",
       "</div>"
      ],
      "text/plain": [
       "              area_type                  location bhk total_sqft  bath  \\\n",
       "0  Super built-up  Area  Electronic City Phase II   2       1056   2.0   \n",
       "2        Built-up  Area               Uttarahalli   3       1440   2.0   \n",
       "5  Super built-up  Area                Whitefield   2       1170   2.0   \n",
       "7  Super built-up  Area              Rajaji Nagar   4       3300   4.0   \n",
       "8  Super built-up  Area              Marathahalli   3       1310   3.0   \n",
       "\n",
       "    balcony   price  \n",
       "0  1.000000   39.07  \n",
       "2  3.000000   62.00  \n",
       "5  1.000000   38.00  \n",
       "7  1.584376  600.00  \n",
       "8  1.000000   63.25  "
      ]
     },
     "execution_count": 27,
     "metadata": {},
     "output_type": "execute_result"
    }
   ],
   "source": [
    "data.head()"
   ]
  },
  {
   "cell_type": "code",
   "execution_count": 28,
   "metadata": {},
   "outputs": [
    {
     "data": {
      "text/plain": [
       "1200           162\n",
       "1100            61\n",
       "1500            46\n",
       "1000            45\n",
       "1140            43\n",
       "              ... \n",
       "1990             1\n",
       "1482 - 1684      1\n",
       "624              1\n",
       "1117             1\n",
       "1.26Acres        1\n",
       "Name: total_sqft, Length: 1211, dtype: int64"
      ]
     },
     "execution_count": 28,
     "metadata": {},
     "output_type": "execute_result"
    }
   ],
   "source": [
    "data[\"total_sqft\"].value_counts()"
   ]
  },
  {
   "cell_type": "code",
   "execution_count": 29,
   "metadata": {},
   "outputs": [],
   "source": [
    "def make_float(x):\n",
    "    try:\n",
    "        float(x)\n",
    "    except:\n",
    "        return False\n",
    "    return True"
   ]
  },
  {
   "cell_type": "code",
   "execution_count": 30,
   "metadata": {},
   "outputs": [
    {
     "data": {
      "text/plain": [
       "0        True\n",
       "2        True\n",
       "5        True\n",
       "7        True\n",
       "8        True\n",
       "         ... \n",
       "13309    True\n",
       "13312    True\n",
       "13313    True\n",
       "13315    True\n",
       "13317    True\n",
       "Name: total_sqft, Length: 4298, dtype: bool"
      ]
     },
     "execution_count": 30,
     "metadata": {},
     "output_type": "execute_result"
    }
   ],
   "source": [
    "data[\"total_sqft\"].apply(make_float)"
   ]
  },
  {
   "cell_type": "code",
   "execution_count": 31,
   "metadata": {},
   "outputs": [],
   "source": [
    "def sqft_to_num(x):\n",
    "    val = x.split('-')\n",
    "    if len(val) == 2:\n",
    "        return (float(val[0])+float(val[1]))/2\n",
    "    try:\n",
    "        return float(x)\n",
    "    except:\n",
    "        return None"
   ]
  },
  {
   "cell_type": "code",
   "execution_count": 32,
   "metadata": {},
   "outputs": [
    {
     "data": {
      "text/html": [
       "<div>\n",
       "<style scoped>\n",
       "    .dataframe tbody tr th:only-of-type {\n",
       "        vertical-align: middle;\n",
       "    }\n",
       "\n",
       "    .dataframe tbody tr th {\n",
       "        vertical-align: top;\n",
       "    }\n",
       "\n",
       "    .dataframe thead th {\n",
       "        text-align: right;\n",
       "    }\n",
       "</style>\n",
       "<table border=\"1\" class=\"dataframe\">\n",
       "  <thead>\n",
       "    <tr style=\"text-align: right;\">\n",
       "      <th></th>\n",
       "      <th>area_type</th>\n",
       "      <th>location</th>\n",
       "      <th>bhk</th>\n",
       "      <th>total_sqft</th>\n",
       "      <th>bath</th>\n",
       "      <th>balcony</th>\n",
       "      <th>price</th>\n",
       "    </tr>\n",
       "  </thead>\n",
       "  <tbody>\n",
       "    <tr>\n",
       "      <th>0</th>\n",
       "      <td>Super built-up  Area</td>\n",
       "      <td>Electronic City Phase II</td>\n",
       "      <td>2</td>\n",
       "      <td>1056.0</td>\n",
       "      <td>2.0</td>\n",
       "      <td>1.000000</td>\n",
       "      <td>39.07</td>\n",
       "    </tr>\n",
       "    <tr>\n",
       "      <th>2</th>\n",
       "      <td>Built-up  Area</td>\n",
       "      <td>Uttarahalli</td>\n",
       "      <td>3</td>\n",
       "      <td>1440.0</td>\n",
       "      <td>2.0</td>\n",
       "      <td>3.000000</td>\n",
       "      <td>62.00</td>\n",
       "    </tr>\n",
       "    <tr>\n",
       "      <th>5</th>\n",
       "      <td>Super built-up  Area</td>\n",
       "      <td>Whitefield</td>\n",
       "      <td>2</td>\n",
       "      <td>1170.0</td>\n",
       "      <td>2.0</td>\n",
       "      <td>1.000000</td>\n",
       "      <td>38.00</td>\n",
       "    </tr>\n",
       "    <tr>\n",
       "      <th>7</th>\n",
       "      <td>Super built-up  Area</td>\n",
       "      <td>Rajaji Nagar</td>\n",
       "      <td>4</td>\n",
       "      <td>3300.0</td>\n",
       "      <td>4.0</td>\n",
       "      <td>1.584376</td>\n",
       "      <td>600.00</td>\n",
       "    </tr>\n",
       "    <tr>\n",
       "      <th>8</th>\n",
       "      <td>Super built-up  Area</td>\n",
       "      <td>Marathahalli</td>\n",
       "      <td>3</td>\n",
       "      <td>1310.0</td>\n",
       "      <td>3.0</td>\n",
       "      <td>1.000000</td>\n",
       "      <td>63.25</td>\n",
       "    </tr>\n",
       "  </tbody>\n",
       "</table>\n",
       "</div>"
      ],
      "text/plain": [
       "              area_type                  location bhk  total_sqft  bath  \\\n",
       "0  Super built-up  Area  Electronic City Phase II   2      1056.0   2.0   \n",
       "2        Built-up  Area               Uttarahalli   3      1440.0   2.0   \n",
       "5  Super built-up  Area                Whitefield   2      1170.0   2.0   \n",
       "7  Super built-up  Area              Rajaji Nagar   4      3300.0   4.0   \n",
       "8  Super built-up  Area              Marathahalli   3      1310.0   3.0   \n",
       "\n",
       "    balcony   price  \n",
       "0  1.000000   39.07  \n",
       "2  3.000000   62.00  \n",
       "5  1.000000   38.00  \n",
       "7  1.584376  600.00  \n",
       "8  1.000000   63.25  "
      ]
     },
     "execution_count": 32,
     "metadata": {},
     "output_type": "execute_result"
    }
   ],
   "source": [
    "df = data.copy()\n",
    "df[\"total_sqft\"] = df[\"total_sqft\"].apply(sqft_to_num)\n",
    "df = df[df[\"total_sqft\"].notnull()]\n",
    "df.head()"
   ]
  },
  {
   "cell_type": "code",
   "execution_count": 33,
   "metadata": {},
   "outputs": [
    {
     "data": {
      "text/plain": [
       "0        1056.0\n",
       "2        1440.0\n",
       "5        1170.0\n",
       "7        3300.0\n",
       "8        1310.0\n",
       "          ...  \n",
       "13309    1675.0\n",
       "13312    1262.0\n",
       "13313    1345.0\n",
       "13315    3453.0\n",
       "13317    1141.0\n",
       "Name: total_sqft, Length: 4290, dtype: float64"
      ]
     },
     "execution_count": 33,
     "metadata": {},
     "output_type": "execute_result"
    }
   ],
   "source": [
    "df[\"total_sqft\"]"
   ]
  },
  {
   "cell_type": "code",
   "execution_count": 34,
   "metadata": {},
   "outputs": [],
   "source": [
    "df['bhk'] = pd.to_numeric(df['bhk'], errors='coerce')"
   ]
  },
  {
   "cell_type": "code",
   "execution_count": 35,
   "metadata": {},
   "outputs": [],
   "source": [
    "df['bath'] = pd.to_numeric(df['bath'], errors='coerce')"
   ]
  },
  {
   "cell_type": "code",
   "execution_count": 36,
   "metadata": {},
   "outputs": [
    {
     "data": {
      "text/plain": [
       "area_type      object\n",
       "location       object\n",
       "bhk           float64\n",
       "total_sqft    float64\n",
       "bath          float64\n",
       "balcony       float64\n",
       "price         float64\n",
       "dtype: object"
      ]
     },
     "execution_count": 36,
     "metadata": {},
     "output_type": "execute_result"
    }
   ],
   "source": [
    "df.dtypes"
   ]
  },
  {
   "cell_type": "code",
   "execution_count": 37,
   "metadata": {},
   "outputs": [
    {
     "data": {
      "text/plain": [
       "area_type      0\n",
       "location       0\n",
       "bhk            0\n",
       "total_sqft     0\n",
       "bath          38\n",
       "balcony        0\n",
       "price          0\n",
       "dtype: int64"
      ]
     },
     "execution_count": 37,
     "metadata": {},
     "output_type": "execute_result"
    }
   ],
   "source": [
    "data.isna().sum()"
   ]
  },
  {
   "cell_type": "code",
   "execution_count": 38,
   "metadata": {},
   "outputs": [
    {
     "data": {
      "text/html": [
       "<div>\n",
       "<style scoped>\n",
       "    .dataframe tbody tr th:only-of-type {\n",
       "        vertical-align: middle;\n",
       "    }\n",
       "\n",
       "    .dataframe tbody tr th {\n",
       "        vertical-align: top;\n",
       "    }\n",
       "\n",
       "    .dataframe thead th {\n",
       "        text-align: right;\n",
       "    }\n",
       "</style>\n",
       "<table border=\"1\" class=\"dataframe\">\n",
       "  <thead>\n",
       "    <tr style=\"text-align: right;\">\n",
       "      <th></th>\n",
       "      <th>bhk</th>\n",
       "      <th>total_sqft</th>\n",
       "      <th>bath</th>\n",
       "      <th>balcony</th>\n",
       "      <th>price</th>\n",
       "      <th>area_type_Built-up  Area</th>\n",
       "      <th>area_type_Carpet  Area</th>\n",
       "      <th>area_type_Plot  Area</th>\n",
       "      <th>area_type_Super built-up  Area</th>\n",
       "      <th>location_7th Phase JP Nagar</th>\n",
       "      <th>...</th>\n",
       "      <th>location_Marathahalli</th>\n",
       "      <th>location_Raja Rajeshwari Nagar</th>\n",
       "      <th>location_Rajaji Nagar</th>\n",
       "      <th>location_Sarjapur</th>\n",
       "      <th>location_Sarjapur  Road</th>\n",
       "      <th>location_Thanisandra</th>\n",
       "      <th>location_Uttarahalli</th>\n",
       "      <th>location_Whitefield</th>\n",
       "      <th>location_Yelahanka</th>\n",
       "      <th>location_Yeshwanthpur</th>\n",
       "    </tr>\n",
       "  </thead>\n",
       "  <tbody>\n",
       "    <tr>\n",
       "      <th>0</th>\n",
       "      <td>2.0</td>\n",
       "      <td>1056.0</td>\n",
       "      <td>2.0</td>\n",
       "      <td>1.000000</td>\n",
       "      <td>39.07</td>\n",
       "      <td>0</td>\n",
       "      <td>0</td>\n",
       "      <td>0</td>\n",
       "      <td>1</td>\n",
       "      <td>0</td>\n",
       "      <td>...</td>\n",
       "      <td>0</td>\n",
       "      <td>0</td>\n",
       "      <td>0</td>\n",
       "      <td>0</td>\n",
       "      <td>0</td>\n",
       "      <td>0</td>\n",
       "      <td>0</td>\n",
       "      <td>0</td>\n",
       "      <td>0</td>\n",
       "      <td>0</td>\n",
       "    </tr>\n",
       "    <tr>\n",
       "      <th>2</th>\n",
       "      <td>3.0</td>\n",
       "      <td>1440.0</td>\n",
       "      <td>2.0</td>\n",
       "      <td>3.000000</td>\n",
       "      <td>62.00</td>\n",
       "      <td>1</td>\n",
       "      <td>0</td>\n",
       "      <td>0</td>\n",
       "      <td>0</td>\n",
       "      <td>0</td>\n",
       "      <td>...</td>\n",
       "      <td>0</td>\n",
       "      <td>0</td>\n",
       "      <td>0</td>\n",
       "      <td>0</td>\n",
       "      <td>0</td>\n",
       "      <td>0</td>\n",
       "      <td>1</td>\n",
       "      <td>0</td>\n",
       "      <td>0</td>\n",
       "      <td>0</td>\n",
       "    </tr>\n",
       "    <tr>\n",
       "      <th>5</th>\n",
       "      <td>2.0</td>\n",
       "      <td>1170.0</td>\n",
       "      <td>2.0</td>\n",
       "      <td>1.000000</td>\n",
       "      <td>38.00</td>\n",
       "      <td>0</td>\n",
       "      <td>0</td>\n",
       "      <td>0</td>\n",
       "      <td>1</td>\n",
       "      <td>0</td>\n",
       "      <td>...</td>\n",
       "      <td>0</td>\n",
       "      <td>0</td>\n",
       "      <td>0</td>\n",
       "      <td>0</td>\n",
       "      <td>0</td>\n",
       "      <td>0</td>\n",
       "      <td>0</td>\n",
       "      <td>1</td>\n",
       "      <td>0</td>\n",
       "      <td>0</td>\n",
       "    </tr>\n",
       "    <tr>\n",
       "      <th>7</th>\n",
       "      <td>4.0</td>\n",
       "      <td>3300.0</td>\n",
       "      <td>4.0</td>\n",
       "      <td>1.584376</td>\n",
       "      <td>600.00</td>\n",
       "      <td>0</td>\n",
       "      <td>0</td>\n",
       "      <td>0</td>\n",
       "      <td>1</td>\n",
       "      <td>0</td>\n",
       "      <td>...</td>\n",
       "      <td>0</td>\n",
       "      <td>0</td>\n",
       "      <td>1</td>\n",
       "      <td>0</td>\n",
       "      <td>0</td>\n",
       "      <td>0</td>\n",
       "      <td>0</td>\n",
       "      <td>0</td>\n",
       "      <td>0</td>\n",
       "      <td>0</td>\n",
       "    </tr>\n",
       "    <tr>\n",
       "      <th>8</th>\n",
       "      <td>3.0</td>\n",
       "      <td>1310.0</td>\n",
       "      <td>3.0</td>\n",
       "      <td>1.000000</td>\n",
       "      <td>63.25</td>\n",
       "      <td>0</td>\n",
       "      <td>0</td>\n",
       "      <td>0</td>\n",
       "      <td>1</td>\n",
       "      <td>0</td>\n",
       "      <td>...</td>\n",
       "      <td>1</td>\n",
       "      <td>0</td>\n",
       "      <td>0</td>\n",
       "      <td>0</td>\n",
       "      <td>0</td>\n",
       "      <td>0</td>\n",
       "      <td>0</td>\n",
       "      <td>0</td>\n",
       "      <td>0</td>\n",
       "      <td>0</td>\n",
       "    </tr>\n",
       "  </tbody>\n",
       "</table>\n",
       "<p>5 rows × 34 columns</p>\n",
       "</div>"
      ],
      "text/plain": [
       "   bhk  total_sqft  bath   balcony   price  area_type_Built-up  Area  \\\n",
       "0  2.0      1056.0   2.0  1.000000   39.07                         0   \n",
       "2  3.0      1440.0   2.0  3.000000   62.00                         1   \n",
       "5  2.0      1170.0   2.0  1.000000   38.00                         0   \n",
       "7  4.0      3300.0   4.0  1.584376  600.00                         0   \n",
       "8  3.0      1310.0   3.0  1.000000   63.25                         0   \n",
       "\n",
       "   area_type_Carpet  Area  area_type_Plot  Area  \\\n",
       "0                       0                     0   \n",
       "2                       0                     0   \n",
       "5                       0                     0   \n",
       "7                       0                     0   \n",
       "8                       0                     0   \n",
       "\n",
       "   area_type_Super built-up  Area  location_7th Phase JP Nagar  ...  \\\n",
       "0                               1                            0  ...   \n",
       "2                               0                            0  ...   \n",
       "5                               1                            0  ...   \n",
       "7                               1                            0  ...   \n",
       "8                               1                            0  ...   \n",
       "\n",
       "   location_Marathahalli  location_Raja Rajeshwari Nagar  \\\n",
       "0                      0                               0   \n",
       "2                      0                               0   \n",
       "5                      0                               0   \n",
       "7                      0                               0   \n",
       "8                      1                               0   \n",
       "\n",
       "   location_Rajaji Nagar  location_Sarjapur  location_Sarjapur  Road  \\\n",
       "0                      0                  0                        0   \n",
       "2                      0                  0                        0   \n",
       "5                      0                  0                        0   \n",
       "7                      1                  0                        0   \n",
       "8                      0                  0                        0   \n",
       "\n",
       "   location_Thanisandra  location_Uttarahalli  location_Whitefield  \\\n",
       "0                     0                     0                    0   \n",
       "2                     0                     1                    0   \n",
       "5                     0                     0                    1   \n",
       "7                     0                     0                    0   \n",
       "8                     0                     0                    0   \n",
       "\n",
       "   location_Yelahanka  location_Yeshwanthpur  \n",
       "0                   0                      0  \n",
       "2                   0                      0  \n",
       "5                   0                      0  \n",
       "7                   0                      0  \n",
       "8                   0                      0  \n",
       "\n",
       "[5 rows x 34 columns]"
      ]
     },
     "execution_count": 38,
     "metadata": {},
     "output_type": "execute_result"
    }
   ],
   "source": [
    "df = pd.get_dummies(data=df,columns=[\"area_type\",\"location\"])\n",
    "df.head()"
   ]
  },
  {
   "cell_type": "code",
   "execution_count": 39,
   "metadata": {},
   "outputs": [],
   "source": [
    "df = df.dropna()"
   ]
  },
  {
   "cell_type": "code",
   "execution_count": 40,
   "metadata": {},
   "outputs": [
    {
     "data": {
      "text/plain": [
       "bhk                                  0\n",
       "total_sqft                           0\n",
       "bath                                 0\n",
       "balcony                              0\n",
       "price                                0\n",
       "area_type_Built-up  Area             0\n",
       "area_type_Carpet  Area               0\n",
       "area_type_Plot  Area                 0\n",
       "area_type_Super built-up  Area       0\n",
       "location_7th Phase JP Nagar          0\n",
       "location_Bannerghatta Road           0\n",
       "location_Begur Road                  0\n",
       "location_Bellandur                   0\n",
       "location_Chandapura                  0\n",
       "location_Electronic City             0\n",
       "location_Electronic City Phase II    0\n",
       "location_Electronics City Phase 1    0\n",
       "location_Haralur Road                0\n",
       "location_Hebbal                      0\n",
       "location_Hennur Road                 0\n",
       "location_Hoodi                       0\n",
       "location_KR Puram                    0\n",
       "location_Kanakpura Road              0\n",
       "location_Kasavanhalli                0\n",
       "location_Marathahalli                0\n",
       "location_Raja Rajeshwari Nagar       0\n",
       "location_Rajaji Nagar                0\n",
       "location_Sarjapur                    0\n",
       "location_Sarjapur  Road              0\n",
       "location_Thanisandra                 0\n",
       "location_Uttarahalli                 0\n",
       "location_Whitefield                  0\n",
       "location_Yelahanka                   0\n",
       "location_Yeshwanthpur                0\n",
       "dtype: int64"
      ]
     },
     "execution_count": 40,
     "metadata": {},
     "output_type": "execute_result"
    }
   ],
   "source": [
    "df.isna().sum()"
   ]
  },
  {
   "cell_type": "code",
   "execution_count": 41,
   "metadata": {},
   "outputs": [
    {
     "data": {
      "text/plain": [
       "(4252, 34)"
      ]
     },
     "execution_count": 41,
     "metadata": {},
     "output_type": "execute_result"
    }
   ],
   "source": [
    "df.shape"
   ]
  },
  {
   "cell_type": "code",
   "execution_count": 42,
   "metadata": {},
   "outputs": [],
   "source": [
    "from sklearn.preprocessing import StandardScaler"
   ]
  },
  {
   "cell_type": "code",
   "execution_count": 43,
   "metadata": {},
   "outputs": [],
   "source": [
    "scaler = StandardScaler()\n",
    "housing_data = pd.DataFrame(scaler.fit_transform(df), columns=df.columns)"
   ]
  },
  {
   "cell_type": "code",
   "execution_count": 44,
   "metadata": {},
   "outputs": [
    {
     "data": {
      "text/html": [
       "<div>\n",
       "<style scoped>\n",
       "    .dataframe tbody tr th:only-of-type {\n",
       "        vertical-align: middle;\n",
       "    }\n",
       "\n",
       "    .dataframe tbody tr th {\n",
       "        vertical-align: top;\n",
       "    }\n",
       "\n",
       "    .dataframe thead th {\n",
       "        text-align: right;\n",
       "    }\n",
       "</style>\n",
       "<table border=\"1\" class=\"dataframe\">\n",
       "  <thead>\n",
       "    <tr style=\"text-align: right;\">\n",
       "      <th></th>\n",
       "      <th>bhk</th>\n",
       "      <th>total_sqft</th>\n",
       "      <th>bath</th>\n",
       "      <th>balcony</th>\n",
       "      <th>price</th>\n",
       "      <th>area_type_Built-up  Area</th>\n",
       "      <th>area_type_Carpet  Area</th>\n",
       "      <th>area_type_Plot  Area</th>\n",
       "      <th>area_type_Super built-up  Area</th>\n",
       "      <th>location_7th Phase JP Nagar</th>\n",
       "      <th>...</th>\n",
       "      <th>location_Marathahalli</th>\n",
       "      <th>location_Raja Rajeshwari Nagar</th>\n",
       "      <th>location_Rajaji Nagar</th>\n",
       "      <th>location_Sarjapur</th>\n",
       "      <th>location_Sarjapur  Road</th>\n",
       "      <th>location_Thanisandra</th>\n",
       "      <th>location_Uttarahalli</th>\n",
       "      <th>location_Whitefield</th>\n",
       "      <th>location_Yelahanka</th>\n",
       "      <th>location_Yeshwanthpur</th>\n",
       "    </tr>\n",
       "  </thead>\n",
       "  <tbody>\n",
       "    <tr>\n",
       "      <th>0</th>\n",
       "      <td>-0.665381</td>\n",
       "      <td>-0.460953</td>\n",
       "      <td>-0.508614</td>\n",
       "      <td>-0.766743</td>\n",
       "      <td>-0.534276</td>\n",
       "      <td>-0.431339</td>\n",
       "      <td>-0.065202</td>\n",
       "      <td>-0.28189</td>\n",
       "      <td>0.553805</td>\n",
       "      <td>-0.189901</td>\n",
       "      <td>...</td>\n",
       "      <td>-0.207180</td>\n",
       "      <td>-0.204699</td>\n",
       "      <td>-0.159896</td>\n",
       "      <td>-0.138475</td>\n",
       "      <td>-0.318676</td>\n",
       "      <td>-0.240232</td>\n",
       "      <td>-0.213881</td>\n",
       "      <td>-0.378168</td>\n",
       "      <td>-0.227935</td>\n",
       "      <td>-0.142823</td>\n",
       "    </tr>\n",
       "    <tr>\n",
       "      <th>1</th>\n",
       "      <td>0.402241</td>\n",
       "      <td>-0.097175</td>\n",
       "      <td>-0.508614</td>\n",
       "      <td>1.835468</td>\n",
       "      <td>-0.325054</td>\n",
       "      <td>2.318364</td>\n",
       "      <td>-0.065202</td>\n",
       "      <td>-0.28189</td>\n",
       "      <td>-1.805691</td>\n",
       "      <td>-0.189901</td>\n",
       "      <td>...</td>\n",
       "      <td>-0.207180</td>\n",
       "      <td>-0.204699</td>\n",
       "      <td>-0.159896</td>\n",
       "      <td>-0.138475</td>\n",
       "      <td>-0.318676</td>\n",
       "      <td>-0.240232</td>\n",
       "      <td>4.675491</td>\n",
       "      <td>-0.378168</td>\n",
       "      <td>-0.227935</td>\n",
       "      <td>-0.142823</td>\n",
       "    </tr>\n",
       "    <tr>\n",
       "      <th>2</th>\n",
       "      <td>-0.665381</td>\n",
       "      <td>-0.352956</td>\n",
       "      <td>-0.508614</td>\n",
       "      <td>-0.766743</td>\n",
       "      <td>-0.544040</td>\n",
       "      <td>-0.431339</td>\n",
       "      <td>-0.065202</td>\n",
       "      <td>-0.28189</td>\n",
       "      <td>0.553805</td>\n",
       "      <td>-0.189901</td>\n",
       "      <td>...</td>\n",
       "      <td>-0.207180</td>\n",
       "      <td>-0.204699</td>\n",
       "      <td>-0.159896</td>\n",
       "      <td>-0.138475</td>\n",
       "      <td>-0.318676</td>\n",
       "      <td>-0.240232</td>\n",
       "      <td>-0.213881</td>\n",
       "      <td>2.644330</td>\n",
       "      <td>-0.227935</td>\n",
       "      <td>-0.142823</td>\n",
       "    </tr>\n",
       "    <tr>\n",
       "      <th>3</th>\n",
       "      <td>1.469863</td>\n",
       "      <td>1.664872</td>\n",
       "      <td>1.390926</td>\n",
       "      <td>-0.006409</td>\n",
       "      <td>4.583882</td>\n",
       "      <td>-0.431339</td>\n",
       "      <td>-0.065202</td>\n",
       "      <td>-0.28189</td>\n",
       "      <td>0.553805</td>\n",
       "      <td>-0.189901</td>\n",
       "      <td>...</td>\n",
       "      <td>-0.207180</td>\n",
       "      <td>-0.204699</td>\n",
       "      <td>6.254055</td>\n",
       "      <td>-0.138475</td>\n",
       "      <td>-0.318676</td>\n",
       "      <td>-0.240232</td>\n",
       "      <td>-0.213881</td>\n",
       "      <td>-0.378168</td>\n",
       "      <td>-0.227935</td>\n",
       "      <td>-0.142823</td>\n",
       "    </tr>\n",
       "    <tr>\n",
       "      <th>4</th>\n",
       "      <td>0.402241</td>\n",
       "      <td>-0.220329</td>\n",
       "      <td>0.441156</td>\n",
       "      <td>-0.766743</td>\n",
       "      <td>-0.313648</td>\n",
       "      <td>-0.431339</td>\n",
       "      <td>-0.065202</td>\n",
       "      <td>-0.28189</td>\n",
       "      <td>0.553805</td>\n",
       "      <td>-0.189901</td>\n",
       "      <td>...</td>\n",
       "      <td>4.826711</td>\n",
       "      <td>-0.204699</td>\n",
       "      <td>-0.159896</td>\n",
       "      <td>-0.138475</td>\n",
       "      <td>-0.318676</td>\n",
       "      <td>-0.240232</td>\n",
       "      <td>-0.213881</td>\n",
       "      <td>-0.378168</td>\n",
       "      <td>-0.227935</td>\n",
       "      <td>-0.142823</td>\n",
       "    </tr>\n",
       "    <tr>\n",
       "      <th>...</th>\n",
       "      <td>...</td>\n",
       "      <td>...</td>\n",
       "      <td>...</td>\n",
       "      <td>...</td>\n",
       "      <td>...</td>\n",
       "      <td>...</td>\n",
       "      <td>...</td>\n",
       "      <td>...</td>\n",
       "      <td>...</td>\n",
       "      <td>...</td>\n",
       "      <td>...</td>\n",
       "      <td>...</td>\n",
       "      <td>...</td>\n",
       "      <td>...</td>\n",
       "      <td>...</td>\n",
       "      <td>...</td>\n",
       "      <td>...</td>\n",
       "      <td>...</td>\n",
       "      <td>...</td>\n",
       "      <td>...</td>\n",
       "      <td>...</td>\n",
       "    </tr>\n",
       "    <tr>\n",
       "      <th>4247</th>\n",
       "      <td>0.402241</td>\n",
       "      <td>0.125449</td>\n",
       "      <td>0.441156</td>\n",
       "      <td>-0.006409</td>\n",
       "      <td>-0.050135</td>\n",
       "      <td>-0.431339</td>\n",
       "      <td>-0.065202</td>\n",
       "      <td>-0.28189</td>\n",
       "      <td>0.553805</td>\n",
       "      <td>-0.189901</td>\n",
       "      <td>...</td>\n",
       "      <td>-0.207180</td>\n",
       "      <td>-0.204699</td>\n",
       "      <td>-0.159896</td>\n",
       "      <td>-0.138475</td>\n",
       "      <td>-0.318676</td>\n",
       "      <td>-0.240232</td>\n",
       "      <td>-0.213881</td>\n",
       "      <td>-0.378168</td>\n",
       "      <td>-0.227935</td>\n",
       "      <td>7.001680</td>\n",
       "    </tr>\n",
       "    <tr>\n",
       "      <th>4248</th>\n",
       "      <td>-0.665381</td>\n",
       "      <td>-0.265801</td>\n",
       "      <td>-0.508614</td>\n",
       "      <td>0.534362</td>\n",
       "      <td>-0.461920</td>\n",
       "      <td>-0.431339</td>\n",
       "      <td>-0.065202</td>\n",
       "      <td>-0.28189</td>\n",
       "      <td>0.553805</td>\n",
       "      <td>-0.189901</td>\n",
       "      <td>...</td>\n",
       "      <td>-0.207180</td>\n",
       "      <td>-0.204699</td>\n",
       "      <td>-0.159896</td>\n",
       "      <td>-0.138475</td>\n",
       "      <td>-0.318676</td>\n",
       "      <td>-0.240232</td>\n",
       "      <td>-0.213881</td>\n",
       "      <td>-0.378168</td>\n",
       "      <td>-0.227935</td>\n",
       "      <td>-0.142823</td>\n",
       "    </tr>\n",
       "    <tr>\n",
       "      <th>4249</th>\n",
       "      <td>0.402241</td>\n",
       "      <td>-0.187172</td>\n",
       "      <td>-0.508614</td>\n",
       "      <td>-0.766743</td>\n",
       "      <td>-0.370676</td>\n",
       "      <td>-0.431339</td>\n",
       "      <td>-0.065202</td>\n",
       "      <td>-0.28189</td>\n",
       "      <td>0.553805</td>\n",
       "      <td>-0.189901</td>\n",
       "      <td>...</td>\n",
       "      <td>-0.207180</td>\n",
       "      <td>-0.204699</td>\n",
       "      <td>-0.159896</td>\n",
       "      <td>-0.138475</td>\n",
       "      <td>-0.318676</td>\n",
       "      <td>-0.240232</td>\n",
       "      <td>4.675491</td>\n",
       "      <td>-0.378168</td>\n",
       "      <td>-0.227935</td>\n",
       "      <td>-0.142823</td>\n",
       "    </tr>\n",
       "    <tr>\n",
       "      <th>4250</th>\n",
       "      <td>2.537485</td>\n",
       "      <td>1.809815</td>\n",
       "      <td>1.390926</td>\n",
       "      <td>-2.067849</td>\n",
       "      <td>1.216973</td>\n",
       "      <td>2.318364</td>\n",
       "      <td>-0.065202</td>\n",
       "      <td>-0.28189</td>\n",
       "      <td>-1.805691</td>\n",
       "      <td>-0.189901</td>\n",
       "      <td>...</td>\n",
       "      <td>-0.207180</td>\n",
       "      <td>-0.204699</td>\n",
       "      <td>-0.159896</td>\n",
       "      <td>-0.138475</td>\n",
       "      <td>-0.318676</td>\n",
       "      <td>-0.240232</td>\n",
       "      <td>-0.213881</td>\n",
       "      <td>2.644330</td>\n",
       "      <td>-0.227935</td>\n",
       "      <td>-0.142823</td>\n",
       "    </tr>\n",
       "    <tr>\n",
       "      <th>4251</th>\n",
       "      <td>-0.665381</td>\n",
       "      <td>-0.380429</td>\n",
       "      <td>-0.508614</td>\n",
       "      <td>-0.766743</td>\n",
       "      <td>-0.343302</td>\n",
       "      <td>2.318364</td>\n",
       "      <td>-0.065202</td>\n",
       "      <td>-0.28189</td>\n",
       "      <td>-1.805691</td>\n",
       "      <td>-0.189901</td>\n",
       "      <td>...</td>\n",
       "      <td>-0.207180</td>\n",
       "      <td>4.885233</td>\n",
       "      <td>-0.159896</td>\n",
       "      <td>-0.138475</td>\n",
       "      <td>-0.318676</td>\n",
       "      <td>-0.240232</td>\n",
       "      <td>-0.213881</td>\n",
       "      <td>-0.378168</td>\n",
       "      <td>-0.227935</td>\n",
       "      <td>-0.142823</td>\n",
       "    </tr>\n",
       "  </tbody>\n",
       "</table>\n",
       "<p>4252 rows × 34 columns</p>\n",
       "</div>"
      ],
      "text/plain": [
       "           bhk  total_sqft      bath   balcony     price  \\\n",
       "0    -0.665381   -0.460953 -0.508614 -0.766743 -0.534276   \n",
       "1     0.402241   -0.097175 -0.508614  1.835468 -0.325054   \n",
       "2    -0.665381   -0.352956 -0.508614 -0.766743 -0.544040   \n",
       "3     1.469863    1.664872  1.390926 -0.006409  4.583882   \n",
       "4     0.402241   -0.220329  0.441156 -0.766743 -0.313648   \n",
       "...        ...         ...       ...       ...       ...   \n",
       "4247  0.402241    0.125449  0.441156 -0.006409 -0.050135   \n",
       "4248 -0.665381   -0.265801 -0.508614  0.534362 -0.461920   \n",
       "4249  0.402241   -0.187172 -0.508614 -0.766743 -0.370676   \n",
       "4250  2.537485    1.809815  1.390926 -2.067849  1.216973   \n",
       "4251 -0.665381   -0.380429 -0.508614 -0.766743 -0.343302   \n",
       "\n",
       "      area_type_Built-up  Area  area_type_Carpet  Area  area_type_Plot  Area  \\\n",
       "0                    -0.431339               -0.065202              -0.28189   \n",
       "1                     2.318364               -0.065202              -0.28189   \n",
       "2                    -0.431339               -0.065202              -0.28189   \n",
       "3                    -0.431339               -0.065202              -0.28189   \n",
       "4                    -0.431339               -0.065202              -0.28189   \n",
       "...                        ...                     ...                   ...   \n",
       "4247                 -0.431339               -0.065202              -0.28189   \n",
       "4248                 -0.431339               -0.065202              -0.28189   \n",
       "4249                 -0.431339               -0.065202              -0.28189   \n",
       "4250                  2.318364               -0.065202              -0.28189   \n",
       "4251                  2.318364               -0.065202              -0.28189   \n",
       "\n",
       "      area_type_Super built-up  Area  location_7th Phase JP Nagar  ...  \\\n",
       "0                           0.553805                    -0.189901  ...   \n",
       "1                          -1.805691                    -0.189901  ...   \n",
       "2                           0.553805                    -0.189901  ...   \n",
       "3                           0.553805                    -0.189901  ...   \n",
       "4                           0.553805                    -0.189901  ...   \n",
       "...                              ...                          ...  ...   \n",
       "4247                        0.553805                    -0.189901  ...   \n",
       "4248                        0.553805                    -0.189901  ...   \n",
       "4249                        0.553805                    -0.189901  ...   \n",
       "4250                       -1.805691                    -0.189901  ...   \n",
       "4251                       -1.805691                    -0.189901  ...   \n",
       "\n",
       "      location_Marathahalli  location_Raja Rajeshwari Nagar  \\\n",
       "0                 -0.207180                       -0.204699   \n",
       "1                 -0.207180                       -0.204699   \n",
       "2                 -0.207180                       -0.204699   \n",
       "3                 -0.207180                       -0.204699   \n",
       "4                  4.826711                       -0.204699   \n",
       "...                     ...                             ...   \n",
       "4247              -0.207180                       -0.204699   \n",
       "4248              -0.207180                       -0.204699   \n",
       "4249              -0.207180                       -0.204699   \n",
       "4250              -0.207180                       -0.204699   \n",
       "4251              -0.207180                        4.885233   \n",
       "\n",
       "      location_Rajaji Nagar  location_Sarjapur  location_Sarjapur  Road  \\\n",
       "0                 -0.159896          -0.138475                -0.318676   \n",
       "1                 -0.159896          -0.138475                -0.318676   \n",
       "2                 -0.159896          -0.138475                -0.318676   \n",
       "3                  6.254055          -0.138475                -0.318676   \n",
       "4                 -0.159896          -0.138475                -0.318676   \n",
       "...                     ...                ...                      ...   \n",
       "4247              -0.159896          -0.138475                -0.318676   \n",
       "4248              -0.159896          -0.138475                -0.318676   \n",
       "4249              -0.159896          -0.138475                -0.318676   \n",
       "4250              -0.159896          -0.138475                -0.318676   \n",
       "4251              -0.159896          -0.138475                -0.318676   \n",
       "\n",
       "      location_Thanisandra  location_Uttarahalli  location_Whitefield  \\\n",
       "0                -0.240232             -0.213881            -0.378168   \n",
       "1                -0.240232              4.675491            -0.378168   \n",
       "2                -0.240232             -0.213881             2.644330   \n",
       "3                -0.240232             -0.213881            -0.378168   \n",
       "4                -0.240232             -0.213881            -0.378168   \n",
       "...                    ...                   ...                  ...   \n",
       "4247             -0.240232             -0.213881            -0.378168   \n",
       "4248             -0.240232             -0.213881            -0.378168   \n",
       "4249             -0.240232              4.675491            -0.378168   \n",
       "4250             -0.240232             -0.213881             2.644330   \n",
       "4251             -0.240232             -0.213881            -0.378168   \n",
       "\n",
       "      location_Yelahanka  location_Yeshwanthpur  \n",
       "0              -0.227935              -0.142823  \n",
       "1              -0.227935              -0.142823  \n",
       "2              -0.227935              -0.142823  \n",
       "3              -0.227935              -0.142823  \n",
       "4              -0.227935              -0.142823  \n",
       "...                  ...                    ...  \n",
       "4247           -0.227935               7.001680  \n",
       "4248           -0.227935              -0.142823  \n",
       "4249           -0.227935              -0.142823  \n",
       "4250           -0.227935              -0.142823  \n",
       "4251           -0.227935              -0.142823  \n",
       "\n",
       "[4252 rows x 34 columns]"
      ]
     },
     "execution_count": 44,
     "metadata": {},
     "output_type": "execute_result"
    }
   ],
   "source": [
    "housing_data"
   ]
  },
  {
   "cell_type": "code",
   "execution_count": 45,
   "metadata": {},
   "outputs": [],
   "source": [
    "from sklearn.model_selection import train_test_split"
   ]
  },
  {
   "cell_type": "code",
   "execution_count": 46,
   "metadata": {},
   "outputs": [],
   "source": [
    "X = housing_data.drop(\"price\",axis=1)"
   ]
  },
  {
   "cell_type": "code",
   "execution_count": 47,
   "metadata": {},
   "outputs": [],
   "source": [
    "y = housing_data[\"price\"]"
   ]
  },
  {
   "cell_type": "code",
   "execution_count": 48,
   "metadata": {},
   "outputs": [],
   "source": [
    "train_x,test_x,train_y,test_y = train_test_split(X,y,test_size=0.20,random_state=355)"
   ]
  },
  {
   "cell_type": "code",
   "execution_count": 49,
   "metadata": {},
   "outputs": [
    {
     "data": {
      "text/html": [
       "<div>\n",
       "<style scoped>\n",
       "    .dataframe tbody tr th:only-of-type {\n",
       "        vertical-align: middle;\n",
       "    }\n",
       "\n",
       "    .dataframe tbody tr th {\n",
       "        vertical-align: top;\n",
       "    }\n",
       "\n",
       "    .dataframe thead th {\n",
       "        text-align: right;\n",
       "    }\n",
       "</style>\n",
       "<table border=\"1\" class=\"dataframe\">\n",
       "  <thead>\n",
       "    <tr style=\"text-align: right;\">\n",
       "      <th></th>\n",
       "      <th>bhk</th>\n",
       "      <th>total_sqft</th>\n",
       "      <th>bath</th>\n",
       "      <th>balcony</th>\n",
       "      <th>area_type_Built-up  Area</th>\n",
       "      <th>area_type_Carpet  Area</th>\n",
       "      <th>area_type_Plot  Area</th>\n",
       "      <th>area_type_Super built-up  Area</th>\n",
       "      <th>location_7th Phase JP Nagar</th>\n",
       "      <th>location_Bannerghatta Road</th>\n",
       "      <th>...</th>\n",
       "      <th>location_Marathahalli</th>\n",
       "      <th>location_Raja Rajeshwari Nagar</th>\n",
       "      <th>location_Rajaji Nagar</th>\n",
       "      <th>location_Sarjapur</th>\n",
       "      <th>location_Sarjapur  Road</th>\n",
       "      <th>location_Thanisandra</th>\n",
       "      <th>location_Uttarahalli</th>\n",
       "      <th>location_Whitefield</th>\n",
       "      <th>location_Yelahanka</th>\n",
       "      <th>location_Yeshwanthpur</th>\n",
       "    </tr>\n",
       "  </thead>\n",
       "  <tbody>\n",
       "    <tr>\n",
       "      <th>2875</th>\n",
       "      <td>-0.665381</td>\n",
       "      <td>-0.234539</td>\n",
       "      <td>-0.508614</td>\n",
       "      <td>0.534362</td>\n",
       "      <td>-0.431339</td>\n",
       "      <td>-0.065202</td>\n",
       "      <td>-0.281890</td>\n",
       "      <td>0.553805</td>\n",
       "      <td>-0.189901</td>\n",
       "      <td>-0.191886</td>\n",
       "      <td>...</td>\n",
       "      <td>-0.20718</td>\n",
       "      <td>4.885233</td>\n",
       "      <td>-0.159896</td>\n",
       "      <td>-0.138475</td>\n",
       "      <td>-0.318676</td>\n",
       "      <td>-0.240232</td>\n",
       "      <td>-0.213881</td>\n",
       "      <td>-0.378168</td>\n",
       "      <td>-0.227935</td>\n",
       "      <td>-0.142823</td>\n",
       "    </tr>\n",
       "    <tr>\n",
       "      <th>2577</th>\n",
       "      <td>0.402241</td>\n",
       "      <td>-0.154015</td>\n",
       "      <td>0.441156</td>\n",
       "      <td>1.835468</td>\n",
       "      <td>-0.431339</td>\n",
       "      <td>-0.065202</td>\n",
       "      <td>-0.281890</td>\n",
       "      <td>0.553805</td>\n",
       "      <td>-0.189901</td>\n",
       "      <td>-0.191886</td>\n",
       "      <td>...</td>\n",
       "      <td>-0.20718</td>\n",
       "      <td>-0.204699</td>\n",
       "      <td>6.254055</td>\n",
       "      <td>-0.138475</td>\n",
       "      <td>-0.318676</td>\n",
       "      <td>-0.240232</td>\n",
       "      <td>-0.213881</td>\n",
       "      <td>-0.378168</td>\n",
       "      <td>-0.227935</td>\n",
       "      <td>-0.142823</td>\n",
       "    </tr>\n",
       "    <tr>\n",
       "      <th>3400</th>\n",
       "      <td>0.402241</td>\n",
       "      <td>-0.116122</td>\n",
       "      <td>0.441156</td>\n",
       "      <td>0.534362</td>\n",
       "      <td>-0.431339</td>\n",
       "      <td>-0.065202</td>\n",
       "      <td>-0.281890</td>\n",
       "      <td>0.553805</td>\n",
       "      <td>-0.189901</td>\n",
       "      <td>-0.191886</td>\n",
       "      <td>...</td>\n",
       "      <td>-0.20718</td>\n",
       "      <td>-0.204699</td>\n",
       "      <td>-0.159896</td>\n",
       "      <td>-0.138475</td>\n",
       "      <td>-0.318676</td>\n",
       "      <td>-0.240232</td>\n",
       "      <td>-0.213881</td>\n",
       "      <td>-0.378168</td>\n",
       "      <td>-0.227935</td>\n",
       "      <td>-0.142823</td>\n",
       "    </tr>\n",
       "    <tr>\n",
       "      <th>357</th>\n",
       "      <td>0.402241</td>\n",
       "      <td>0.961001</td>\n",
       "      <td>0.441156</td>\n",
       "      <td>0.534362</td>\n",
       "      <td>-0.431339</td>\n",
       "      <td>-0.065202</td>\n",
       "      <td>-0.281890</td>\n",
       "      <td>0.553805</td>\n",
       "      <td>-0.189901</td>\n",
       "      <td>-0.191886</td>\n",
       "      <td>...</td>\n",
       "      <td>-0.20718</td>\n",
       "      <td>-0.204699</td>\n",
       "      <td>-0.159896</td>\n",
       "      <td>-0.138475</td>\n",
       "      <td>-0.318676</td>\n",
       "      <td>-0.240232</td>\n",
       "      <td>-0.213881</td>\n",
       "      <td>-0.378168</td>\n",
       "      <td>-0.227935</td>\n",
       "      <td>7.001680</td>\n",
       "    </tr>\n",
       "    <tr>\n",
       "      <th>2428</th>\n",
       "      <td>0.402241</td>\n",
       "      <td>0.435228</td>\n",
       "      <td>0.441156</td>\n",
       "      <td>0.534362</td>\n",
       "      <td>-0.431339</td>\n",
       "      <td>-0.065202</td>\n",
       "      <td>-0.281890</td>\n",
       "      <td>0.553805</td>\n",
       "      <td>-0.189901</td>\n",
       "      <td>-0.191886</td>\n",
       "      <td>...</td>\n",
       "      <td>-0.20718</td>\n",
       "      <td>-0.204699</td>\n",
       "      <td>-0.159896</td>\n",
       "      <td>-0.138475</td>\n",
       "      <td>-0.318676</td>\n",
       "      <td>-0.240232</td>\n",
       "      <td>-0.213881</td>\n",
       "      <td>-0.378168</td>\n",
       "      <td>-0.227935</td>\n",
       "      <td>-0.142823</td>\n",
       "    </tr>\n",
       "    <tr>\n",
       "      <th>...</th>\n",
       "      <td>...</td>\n",
       "      <td>...</td>\n",
       "      <td>...</td>\n",
       "      <td>...</td>\n",
       "      <td>...</td>\n",
       "      <td>...</td>\n",
       "      <td>...</td>\n",
       "      <td>...</td>\n",
       "      <td>...</td>\n",
       "      <td>...</td>\n",
       "      <td>...</td>\n",
       "      <td>...</td>\n",
       "      <td>...</td>\n",
       "      <td>...</td>\n",
       "      <td>...</td>\n",
       "      <td>...</td>\n",
       "      <td>...</td>\n",
       "      <td>...</td>\n",
       "      <td>...</td>\n",
       "      <td>...</td>\n",
       "      <td>...</td>\n",
       "    </tr>\n",
       "    <tr>\n",
       "      <th>4083</th>\n",
       "      <td>-0.665381</td>\n",
       "      <td>-0.216540</td>\n",
       "      <td>-0.508614</td>\n",
       "      <td>-2.067849</td>\n",
       "      <td>-0.431339</td>\n",
       "      <td>-0.065202</td>\n",
       "      <td>3.547487</td>\n",
       "      <td>-1.805691</td>\n",
       "      <td>-0.189901</td>\n",
       "      <td>-0.191886</td>\n",
       "      <td>...</td>\n",
       "      <td>-0.20718</td>\n",
       "      <td>-0.204699</td>\n",
       "      <td>6.254055</td>\n",
       "      <td>-0.138475</td>\n",
       "      <td>-0.318676</td>\n",
       "      <td>-0.240232</td>\n",
       "      <td>-0.213881</td>\n",
       "      <td>-0.378168</td>\n",
       "      <td>-0.227935</td>\n",
       "      <td>-0.142823</td>\n",
       "    </tr>\n",
       "    <tr>\n",
       "      <th>3985</th>\n",
       "      <td>-0.665381</td>\n",
       "      <td>-0.309379</td>\n",
       "      <td>-0.508614</td>\n",
       "      <td>-0.766743</td>\n",
       "      <td>-0.431339</td>\n",
       "      <td>-0.065202</td>\n",
       "      <td>-0.281890</td>\n",
       "      <td>0.553805</td>\n",
       "      <td>-0.189901</td>\n",
       "      <td>-0.191886</td>\n",
       "      <td>...</td>\n",
       "      <td>-0.20718</td>\n",
       "      <td>-0.204699</td>\n",
       "      <td>-0.159896</td>\n",
       "      <td>-0.138475</td>\n",
       "      <td>-0.318676</td>\n",
       "      <td>-0.240232</td>\n",
       "      <td>-0.213881</td>\n",
       "      <td>2.644330</td>\n",
       "      <td>-0.227935</td>\n",
       "      <td>-0.142823</td>\n",
       "    </tr>\n",
       "    <tr>\n",
       "      <th>2099</th>\n",
       "      <td>0.402241</td>\n",
       "      <td>-0.210856</td>\n",
       "      <td>-0.508614</td>\n",
       "      <td>-0.766743</td>\n",
       "      <td>2.318364</td>\n",
       "      <td>-0.065202</td>\n",
       "      <td>-0.281890</td>\n",
       "      <td>-1.805691</td>\n",
       "      <td>-0.189901</td>\n",
       "      <td>-0.191886</td>\n",
       "      <td>...</td>\n",
       "      <td>-0.20718</td>\n",
       "      <td>-0.204699</td>\n",
       "      <td>-0.159896</td>\n",
       "      <td>-0.138475</td>\n",
       "      <td>-0.318676</td>\n",
       "      <td>-0.240232</td>\n",
       "      <td>-0.213881</td>\n",
       "      <td>-0.378168</td>\n",
       "      <td>-0.227935</td>\n",
       "      <td>-0.142823</td>\n",
       "    </tr>\n",
       "    <tr>\n",
       "      <th>3418</th>\n",
       "      <td>-0.665381</td>\n",
       "      <td>-0.458111</td>\n",
       "      <td>-0.508614</td>\n",
       "      <td>-0.766743</td>\n",
       "      <td>2.318364</td>\n",
       "      <td>-0.065202</td>\n",
       "      <td>-0.281890</td>\n",
       "      <td>-1.805691</td>\n",
       "      <td>-0.189901</td>\n",
       "      <td>-0.191886</td>\n",
       "      <td>...</td>\n",
       "      <td>-0.20718</td>\n",
       "      <td>-0.204699</td>\n",
       "      <td>-0.159896</td>\n",
       "      <td>-0.138475</td>\n",
       "      <td>-0.318676</td>\n",
       "      <td>-0.240232</td>\n",
       "      <td>-0.213881</td>\n",
       "      <td>2.644330</td>\n",
       "      <td>-0.227935</td>\n",
       "      <td>-0.142823</td>\n",
       "    </tr>\n",
       "    <tr>\n",
       "      <th>2690</th>\n",
       "      <td>-0.665381</td>\n",
       "      <td>-0.457163</td>\n",
       "      <td>-0.508614</td>\n",
       "      <td>-0.766743</td>\n",
       "      <td>2.318364</td>\n",
       "      <td>-0.065202</td>\n",
       "      <td>-0.281890</td>\n",
       "      <td>-1.805691</td>\n",
       "      <td>-0.189901</td>\n",
       "      <td>-0.191886</td>\n",
       "      <td>...</td>\n",
       "      <td>-0.20718</td>\n",
       "      <td>-0.204699</td>\n",
       "      <td>-0.159896</td>\n",
       "      <td>-0.138475</td>\n",
       "      <td>3.137983</td>\n",
       "      <td>-0.240232</td>\n",
       "      <td>-0.213881</td>\n",
       "      <td>-0.378168</td>\n",
       "      <td>-0.227935</td>\n",
       "      <td>-0.142823</td>\n",
       "    </tr>\n",
       "  </tbody>\n",
       "</table>\n",
       "<p>3401 rows × 33 columns</p>\n",
       "</div>"
      ],
      "text/plain": [
       "           bhk  total_sqft      bath   balcony  area_type_Built-up  Area  \\\n",
       "2875 -0.665381   -0.234539 -0.508614  0.534362                 -0.431339   \n",
       "2577  0.402241   -0.154015  0.441156  1.835468                 -0.431339   \n",
       "3400  0.402241   -0.116122  0.441156  0.534362                 -0.431339   \n",
       "357   0.402241    0.961001  0.441156  0.534362                 -0.431339   \n",
       "2428  0.402241    0.435228  0.441156  0.534362                 -0.431339   \n",
       "...        ...         ...       ...       ...                       ...   \n",
       "4083 -0.665381   -0.216540 -0.508614 -2.067849                 -0.431339   \n",
       "3985 -0.665381   -0.309379 -0.508614 -0.766743                 -0.431339   \n",
       "2099  0.402241   -0.210856 -0.508614 -0.766743                  2.318364   \n",
       "3418 -0.665381   -0.458111 -0.508614 -0.766743                  2.318364   \n",
       "2690 -0.665381   -0.457163 -0.508614 -0.766743                  2.318364   \n",
       "\n",
       "      area_type_Carpet  Area  area_type_Plot  Area  \\\n",
       "2875               -0.065202             -0.281890   \n",
       "2577               -0.065202             -0.281890   \n",
       "3400               -0.065202             -0.281890   \n",
       "357                -0.065202             -0.281890   \n",
       "2428               -0.065202             -0.281890   \n",
       "...                      ...                   ...   \n",
       "4083               -0.065202              3.547487   \n",
       "3985               -0.065202             -0.281890   \n",
       "2099               -0.065202             -0.281890   \n",
       "3418               -0.065202             -0.281890   \n",
       "2690               -0.065202             -0.281890   \n",
       "\n",
       "      area_type_Super built-up  Area  location_7th Phase JP Nagar  \\\n",
       "2875                        0.553805                    -0.189901   \n",
       "2577                        0.553805                    -0.189901   \n",
       "3400                        0.553805                    -0.189901   \n",
       "357                         0.553805                    -0.189901   \n",
       "2428                        0.553805                    -0.189901   \n",
       "...                              ...                          ...   \n",
       "4083                       -1.805691                    -0.189901   \n",
       "3985                        0.553805                    -0.189901   \n",
       "2099                       -1.805691                    -0.189901   \n",
       "3418                       -1.805691                    -0.189901   \n",
       "2690                       -1.805691                    -0.189901   \n",
       "\n",
       "      location_Bannerghatta Road  ...  location_Marathahalli  \\\n",
       "2875                   -0.191886  ...               -0.20718   \n",
       "2577                   -0.191886  ...               -0.20718   \n",
       "3400                   -0.191886  ...               -0.20718   \n",
       "357                    -0.191886  ...               -0.20718   \n",
       "2428                   -0.191886  ...               -0.20718   \n",
       "...                          ...  ...                    ...   \n",
       "4083                   -0.191886  ...               -0.20718   \n",
       "3985                   -0.191886  ...               -0.20718   \n",
       "2099                   -0.191886  ...               -0.20718   \n",
       "3418                   -0.191886  ...               -0.20718   \n",
       "2690                   -0.191886  ...               -0.20718   \n",
       "\n",
       "      location_Raja Rajeshwari Nagar  location_Rajaji Nagar  \\\n",
       "2875                        4.885233              -0.159896   \n",
       "2577                       -0.204699               6.254055   \n",
       "3400                       -0.204699              -0.159896   \n",
       "357                        -0.204699              -0.159896   \n",
       "2428                       -0.204699              -0.159896   \n",
       "...                              ...                    ...   \n",
       "4083                       -0.204699               6.254055   \n",
       "3985                       -0.204699              -0.159896   \n",
       "2099                       -0.204699              -0.159896   \n",
       "3418                       -0.204699              -0.159896   \n",
       "2690                       -0.204699              -0.159896   \n",
       "\n",
       "      location_Sarjapur  location_Sarjapur  Road  location_Thanisandra  \\\n",
       "2875          -0.138475                -0.318676             -0.240232   \n",
       "2577          -0.138475                -0.318676             -0.240232   \n",
       "3400          -0.138475                -0.318676             -0.240232   \n",
       "357           -0.138475                -0.318676             -0.240232   \n",
       "2428          -0.138475                -0.318676             -0.240232   \n",
       "...                 ...                      ...                   ...   \n",
       "4083          -0.138475                -0.318676             -0.240232   \n",
       "3985          -0.138475                -0.318676             -0.240232   \n",
       "2099          -0.138475                -0.318676             -0.240232   \n",
       "3418          -0.138475                -0.318676             -0.240232   \n",
       "2690          -0.138475                 3.137983             -0.240232   \n",
       "\n",
       "      location_Uttarahalli  location_Whitefield  location_Yelahanka  \\\n",
       "2875             -0.213881            -0.378168           -0.227935   \n",
       "2577             -0.213881            -0.378168           -0.227935   \n",
       "3400             -0.213881            -0.378168           -0.227935   \n",
       "357              -0.213881            -0.378168           -0.227935   \n",
       "2428             -0.213881            -0.378168           -0.227935   \n",
       "...                    ...                  ...                 ...   \n",
       "4083             -0.213881            -0.378168           -0.227935   \n",
       "3985             -0.213881             2.644330           -0.227935   \n",
       "2099             -0.213881            -0.378168           -0.227935   \n",
       "3418             -0.213881             2.644330           -0.227935   \n",
       "2690             -0.213881            -0.378168           -0.227935   \n",
       "\n",
       "      location_Yeshwanthpur  \n",
       "2875              -0.142823  \n",
       "2577              -0.142823  \n",
       "3400              -0.142823  \n",
       "357                7.001680  \n",
       "2428              -0.142823  \n",
       "...                     ...  \n",
       "4083              -0.142823  \n",
       "3985              -0.142823  \n",
       "2099              -0.142823  \n",
       "3418              -0.142823  \n",
       "2690              -0.142823  \n",
       "\n",
       "[3401 rows x 33 columns]"
      ]
     },
     "execution_count": 49,
     "metadata": {},
     "output_type": "execute_result"
    }
   ],
   "source": [
    "train_x"
   ]
  },
  {
   "cell_type": "code",
   "execution_count": 50,
   "metadata": {},
   "outputs": [
    {
     "data": {
      "text/plain": [
       "2875   -0.490206\n",
       "2577    0.295407\n",
       "3400   -0.325054\n",
       "357     0.395775\n",
       "2428    0.204163\n",
       "          ...   \n",
       "4083    1.162226\n",
       "3985   -0.206436\n",
       "2099   -0.542853\n",
       "3418   -0.370676\n",
       "2690   -0.434547\n",
       "Name: price, Length: 3401, dtype: float64"
      ]
     },
     "execution_count": 50,
     "metadata": {},
     "output_type": "execute_result"
    }
   ],
   "source": [
    "train_y"
   ]
  },
  {
   "cell_type": "code",
   "execution_count": 51,
   "metadata": {},
   "outputs": [
    {
     "data": {
      "text/plain": [
       "LinearRegression()"
      ]
     },
     "execution_count": 51,
     "metadata": {},
     "output_type": "execute_result"
    }
   ],
   "source": [
    "from sklearn.linear_model import LinearRegression\n",
    "model = LinearRegression()\n",
    "model.fit(train_x,train_y)"
   ]
  },
  {
   "cell_type": "code",
   "execution_count": 52,
   "metadata": {},
   "outputs": [
    {
     "data": {
      "text/plain": [
       "0.5712946735585153"
      ]
     },
     "execution_count": 52,
     "metadata": {},
     "output_type": "execute_result"
    }
   ],
   "source": [
    "model.score(train_x,train_y)"
   ]
  },
  {
   "cell_type": "code",
   "execution_count": 53,
   "metadata": {},
   "outputs": [
    {
     "data": {
      "text/plain": [
       "0.6703404249901446"
      ]
     },
     "execution_count": 53,
     "metadata": {},
     "output_type": "execute_result"
    }
   ],
   "source": [
    "model.score(test_x,test_y)"
   ]
  },
  {
   "cell_type": "code",
   "execution_count": 54,
   "metadata": {},
   "outputs": [],
   "source": [
    "#function to carry out adjusted-rsquared value\n",
    "def adjusted_rsquared(x,y):\n",
    "    r2 = model.score(x,y)\n",
    "    n = x.shape[0]\n",
    "    p = x.shape[1]\n",
    "    adjusted_r2 = 1-(1-r2)*(n-1)/(n-p-1)\n",
    "    return adjusted_r2"
   ]
  },
  {
   "cell_type": "code",
   "execution_count": 55,
   "metadata": {},
   "outputs": [
    {
     "data": {
      "text/plain": [
       "0.5670929284523172"
      ]
     },
     "execution_count": 55,
     "metadata": {},
     "output_type": "execute_result"
    }
   ],
   "source": [
    "adjusted_rsquared(train_x,train_y)"
   ]
  },
  {
   "cell_type": "code",
   "execution_count": 56,
   "metadata": {},
   "outputs": [
    {
     "data": {
      "text/plain": [
       "0.6570249219603708"
      ]
     },
     "execution_count": 56,
     "metadata": {},
     "output_type": "execute_result"
    }
   ],
   "source": [
    "adjusted_rsquared(test_x,test_y)"
   ]
  },
  {
   "cell_type": "code",
   "execution_count": 57,
   "metadata": {},
   "outputs": [],
   "source": [
    "#r-squared method gives us more accuracy"
   ]
  },
  {
   "cell_type": "code",
   "execution_count": 58,
   "metadata": {},
   "outputs": [],
   "source": [
    "#Lets see if our model is overfitting the data\n",
    "#using lassoCV"
   ]
  },
  {
   "cell_type": "code",
   "execution_count": 59,
   "metadata": {},
   "outputs": [],
   "source": [
    "from sklearn.linear_model import Lasso,Ridge,LassoCV, RidgeCV"
   ]
  },
  {
   "cell_type": "code",
   "execution_count": 60,
   "metadata": {},
   "outputs": [
    {
     "data": {
      "text/plain": [
       "LassoCV(cv=10, max_iter=100000, normalize=True)"
      ]
     },
     "execution_count": 60,
     "metadata": {},
     "output_type": "execute_result"
    }
   ],
   "source": [
    "lasscv = LassoCV(alphas=None,cv=10,max_iter=100000,normalize=True)\n",
    "lasscv.fit(train_x,train_y)"
   ]
  },
  {
   "cell_type": "code",
   "execution_count": 61,
   "metadata": {},
   "outputs": [
    {
     "data": {
      "text/plain": [
       "1.928027077112682e-05"
      ]
     },
     "execution_count": 61,
     "metadata": {},
     "output_type": "execute_result"
    }
   ],
   "source": [
    "best_param = lasscv.alpha_\n",
    "best_param"
   ]
  },
  {
   "cell_type": "code",
   "execution_count": 62,
   "metadata": {},
   "outputs": [
    {
     "name": "stderr",
     "output_type": "stream",
     "text": [
      "C:\\Users\\Raj\\anaconda3x\\lib\\site-packages\\sklearn\\linear_model\\_coordinate_descent.py:529: ConvergenceWarning: Objective did not converge. You might want to increase the number of iterations. Duality gap: 14.607077588987522, tolerance: 0.35560456461907125\n",
      "  model = cd_fast.enet_coordinate_descent(\n"
     ]
    },
    {
     "data": {
      "text/plain": [
       "Lasso(alpha=1.928027077112682e-05)"
      ]
     },
     "execution_count": 62,
     "metadata": {},
     "output_type": "execute_result"
    }
   ],
   "source": [
    "lasso_reg = Lasso(best_param)\n",
    "lasso_reg.fit(train_x,train_y)"
   ]
  },
  {
   "cell_type": "code",
   "execution_count": 63,
   "metadata": {},
   "outputs": [
    {
     "data": {
      "text/plain": [
       "0.6704806893893158"
      ]
     },
     "execution_count": 63,
     "metadata": {},
     "output_type": "execute_result"
    }
   ],
   "source": [
    "lasso_reg.score(test_x,test_y)"
   ]
  },
  {
   "cell_type": "code",
   "execution_count": 64,
   "metadata": {},
   "outputs": [
    {
     "data": {
      "text/plain": [
       "RidgeCV(alphas=array([5.7897471 , 9.80380755, 0.24093722, 2.59738173, 6.4061572 ,\n",
       "       9.05403618, 9.68428317, 1.2920397 , 8.93792896, 8.81832044,\n",
       "       1.48991478, 7.27818343, 1.82538513, 1.13745986, 2.34738641,\n",
       "       4.74387527, 5.48087319, 1.89949088, 6.55658191, 5.71260405,\n",
       "       1.04090347, 4.27577377, 6.58017008, 6.95511583, 3.23532817,\n",
       "       1.41538912, 6.17997448, 1.73997558, 4.96949553, 5.35005437,\n",
       "       7.28058149, 8.42968672, 6.71473318, 8.03143175, 6.00647067,\n",
       "       3.78548659, 1.88242069, 4.3846777 , 9.97583779, 8.92667312,\n",
       "       4.66698362, 9.52388832, 5.2939529 , 1.23930653, 9.74185108,\n",
       "       4.52912463, 3.83210646, 3.18175969, 5.60113595, 4.36305703]),\n",
       "        cv=10, normalize=True)"
      ]
     },
     "execution_count": 64,
     "metadata": {},
     "output_type": "execute_result"
    }
   ],
   "source": [
    "#using RidgeCV\n",
    "alpha = np.random.uniform(low=0, high=10, size=(50,))\n",
    "ridgecv = RidgeCV(alphas = alpha, cv=10, normalize=True)\n",
    "ridgecv.fit(train_x,train_y)"
   ]
  },
  {
   "cell_type": "code",
   "execution_count": 65,
   "metadata": {},
   "outputs": [
    {
     "data": {
      "text/plain": [
       "0.2409372230919915"
      ]
     },
     "execution_count": 65,
     "metadata": {},
     "output_type": "execute_result"
    }
   ],
   "source": [
    "best_param_ridge = ridgecv.alpha_\n",
    "best_param_ridge"
   ]
  },
  {
   "cell_type": "code",
   "execution_count": 66,
   "metadata": {},
   "outputs": [
    {
     "data": {
      "text/plain": [
       "Ridge(alpha=0.2409372230919915)"
      ]
     },
     "execution_count": 66,
     "metadata": {},
     "output_type": "execute_result"
    }
   ],
   "source": [
    "ridge = Ridge(alpha=best_param_ridge)\n",
    "ridge.fit(train_x,train_y)"
   ]
  },
  {
   "cell_type": "code",
   "execution_count": 67,
   "metadata": {},
   "outputs": [
    {
     "data": {
      "text/plain": [
       "0.6704666022963074"
      ]
     },
     "execution_count": 67,
     "metadata": {},
     "output_type": "execute_result"
    }
   ],
   "source": [
    "ridge.score(test_x,test_y)"
   ]
  },
  {
   "cell_type": "code",
   "execution_count": null,
   "metadata": {},
   "outputs": [],
   "source": []
  }
 ],
 "metadata": {
  "kernelspec": {
   "display_name": "Python 3",
   "language": "python",
   "name": "python3"
  },
  "language_info": {
   "codemirror_mode": {
    "name": "ipython",
    "version": 3
   },
   "file_extension": ".py",
   "mimetype": "text/x-python",
   "name": "python",
   "nbconvert_exporter": "python",
   "pygments_lexer": "ipython3",
   "version": "3.8.5"
  }
 },
 "nbformat": 4,
 "nbformat_minor": 4
}
